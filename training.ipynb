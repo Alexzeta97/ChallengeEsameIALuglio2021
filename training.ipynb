{
 "cells": [
  {
   "cell_type": "markdown",
   "id": "5d598c17",
   "metadata": {},
   "source": [
    "# Training"
   ]
  },
  {
   "cell_type": "markdown",
   "id": "dcdc4921",
   "metadata": {},
   "source": [
    "## Risoluzione dipendenze e caricamento dataset"
   ]
  },
  {
   "cell_type": "code",
   "execution_count": 1,
   "id": "8a813511",
   "metadata": {},
   "outputs": [
    {
     "name": "stdout",
     "output_type": "stream",
     "text": [
      "Requirement already satisfied: pandas==1.3.0 in /home/alex/anaconda3/envs/challenge-esame/lib/python3.9/site-packages (from -r requirements.txt (line 1)) (1.3.0)\n",
      "Requirement already satisfied: matplotlib==3.4.2 in /home/alex/anaconda3/envs/challenge-esame/lib/python3.9/site-packages (from -r requirements.txt (line 2)) (3.4.2)\n",
      "Requirement already satisfied: seaborn==0.11.1 in /home/alex/anaconda3/envs/challenge-esame/lib/python3.9/site-packages (from -r requirements.txt (line 3)) (0.11.1)\n",
      "Requirement already satisfied: scikit-learn==0.24.2 in /home/alex/anaconda3/envs/challenge-esame/lib/python3.9/site-packages (from -r requirements.txt (line 4)) (0.24.2)\n",
      "Requirement already satisfied: imbalanced-learn==0.8.0 in /home/alex/anaconda3/envs/challenge-esame/lib/python3.9/site-packages (from -r requirements.txt (line 5)) (0.8.0)\n",
      "Requirement already satisfied: python-dateutil>=2.7.3 in /home/alex/anaconda3/envs/challenge-esame/lib/python3.9/site-packages (from pandas==1.3.0->-r requirements.txt (line 1)) (2.8.1)\n",
      "Requirement already satisfied: pytz>=2017.3 in /home/alex/anaconda3/envs/challenge-esame/lib/python3.9/site-packages (from pandas==1.3.0->-r requirements.txt (line 1)) (2021.1)\n",
      "Requirement already satisfied: numpy>=1.17.3 in /home/alex/anaconda3/envs/challenge-esame/lib/python3.9/site-packages (from pandas==1.3.0->-r requirements.txt (line 1)) (1.21.0)\n",
      "Requirement already satisfied: pyparsing>=2.2.1 in /home/alex/anaconda3/envs/challenge-esame/lib/python3.9/site-packages (from matplotlib==3.4.2->-r requirements.txt (line 2)) (2.4.7)\n",
      "Requirement already satisfied: pillow>=6.2.0 in /home/alex/anaconda3/envs/challenge-esame/lib/python3.9/site-packages (from matplotlib==3.4.2->-r requirements.txt (line 2)) (8.3.1)\n",
      "Requirement already satisfied: cycler>=0.10 in /home/alex/anaconda3/envs/challenge-esame/lib/python3.9/site-packages (from matplotlib==3.4.2->-r requirements.txt (line 2)) (0.10.0)\n",
      "Requirement already satisfied: kiwisolver>=1.0.1 in /home/alex/anaconda3/envs/challenge-esame/lib/python3.9/site-packages (from matplotlib==3.4.2->-r requirements.txt (line 2)) (1.3.1)\n",
      "Requirement already satisfied: scipy>=1.0 in /home/alex/anaconda3/envs/challenge-esame/lib/python3.9/site-packages (from seaborn==0.11.1->-r requirements.txt (line 3)) (1.7.0)\n",
      "Requirement already satisfied: joblib>=0.11 in /home/alex/anaconda3/envs/challenge-esame/lib/python3.9/site-packages (from scikit-learn==0.24.2->-r requirements.txt (line 4)) (1.0.1)\n",
      "Requirement already satisfied: threadpoolctl>=2.0.0 in /home/alex/anaconda3/envs/challenge-esame/lib/python3.9/site-packages (from scikit-learn==0.24.2->-r requirements.txt (line 4)) (2.1.0)\n",
      "Requirement already satisfied: six in /home/alex/anaconda3/envs/challenge-esame/lib/python3.9/site-packages (from cycler>=0.10->matplotlib==3.4.2->-r requirements.txt (line 2)) (1.16.0)\n"
     ]
    }
   ],
   "source": [
    "# Installa tutte le dipendenze.\n",
    "!pip install -r requirements.txt"
   ]
  },
  {
   "cell_type": "code",
   "execution_count": 2,
   "id": "ffe69681",
   "metadata": {},
   "outputs": [],
   "source": [
    "# Importa tutte le librerie necessarie.\n",
    "import math\n",
    "import numpy as np\n",
    "import pandas as pd\n",
    "import matplotlib.pyplot as plt\n",
    "import seaborn as sns\n",
    "from sklearn.metrics import confusion_matrix\n",
    "from sklearn.metrics import classification_report\n",
    "from sklearn.compose import ColumnTransformer\n",
    "from sklearn.preprocessing import StandardScaler, OneHotEncoder\n",
    "from sklearn.model_selection import cross_val_score\n",
    "from sklearn.model_selection import GridSearchCV\n",
    "from sklearn.feature_selection import mutual_info_classif\n",
    "from sklearn.ensemble import RandomForestClassifier\n",
    "from sklearn.pipeline import Pipeline\n",
    "from imblearn.over_sampling import SMOTE"
   ]
  },
  {
   "cell_type": "code",
   "execution_count": 3,
   "id": "5a454021",
   "metadata": {},
   "outputs": [],
   "source": [
    "# Carica i due dataset di training e di test.\n",
    "train = pd.read_csv('train.csv')\n",
    "test = pd.read_csv('test.csv')"
   ]
  },
  {
   "cell_type": "markdown",
   "id": "98582230",
   "metadata": {},
   "source": [
    "## Analisi preliminare e pulizia del dataset"
   ]
  },
  {
   "cell_type": "code",
   "execution_count": 4,
   "id": "ed5f6f88",
   "metadata": {},
   "outputs": [
    {
     "name": "stdout",
     "output_type": "stream",
     "text": [
      "Dimensione train set: (6400, 14)\n",
      "Dimensione test  set: (1600, 14)\n"
     ]
    }
   ],
   "source": [
    "# Vediamo quale è la dimensione dei due set.\n",
    "print('Dimensione train set: ' + str(train.shape))\n",
    "print('Dimensione test  set: ' + str(test.shape))"
   ]
  },
  {
   "cell_type": "code",
   "execution_count": 5,
   "id": "ef59ba12",
   "metadata": {},
   "outputs": [
    {
     "data": {
      "text/html": [
       "<div>\n",
       "<style scoped>\n",
       "    .dataframe tbody tr th:only-of-type {\n",
       "        vertical-align: middle;\n",
       "    }\n",
       "\n",
       "    .dataframe tbody tr th {\n",
       "        vertical-align: top;\n",
       "    }\n",
       "\n",
       "    .dataframe thead th {\n",
       "        text-align: right;\n",
       "    }\n",
       "</style>\n",
       "<table border=\"1\" class=\"dataframe\">\n",
       "  <thead>\n",
       "    <tr style=\"text-align: right;\">\n",
       "      <th></th>\n",
       "      <th>Exited</th>\n",
       "      <th>RowNumber</th>\n",
       "      <th>CustomerId</th>\n",
       "      <th>Surname</th>\n",
       "      <th>CreditScore</th>\n",
       "      <th>Geography</th>\n",
       "      <th>Gender</th>\n",
       "      <th>Age</th>\n",
       "      <th>Tenure</th>\n",
       "      <th>Balance</th>\n",
       "      <th>NumOfProducts</th>\n",
       "      <th>HasCrCard</th>\n",
       "      <th>IsActiveMember</th>\n",
       "      <th>EstimatedSalary</th>\n",
       "    </tr>\n",
       "  </thead>\n",
       "  <tbody>\n",
       "    <tr>\n",
       "      <th>0</th>\n",
       "      <td>0</td>\n",
       "      <td>2604</td>\n",
       "      <td>15583049</td>\n",
       "      <td>Wallace</td>\n",
       "      <td>643</td>\n",
       "      <td>Germany</td>\n",
       "      <td>Female</td>\n",
       "      <td>34</td>\n",
       "      <td>7</td>\n",
       "      <td>160426.07</td>\n",
       "      <td>1</td>\n",
       "      <td>0</td>\n",
       "      <td>1</td>\n",
       "      <td>188533.11</td>\n",
       "    </tr>\n",
       "    <tr>\n",
       "      <th>1</th>\n",
       "      <td>0</td>\n",
       "      <td>5125</td>\n",
       "      <td>15612140</td>\n",
       "      <td>Milano</td>\n",
       "      <td>721</td>\n",
       "      <td>Spain</td>\n",
       "      <td>Female</td>\n",
       "      <td>46</td>\n",
       "      <td>7</td>\n",
       "      <td>137933.39</td>\n",
       "      <td>1</td>\n",
       "      <td>1</td>\n",
       "      <td>1</td>\n",
       "      <td>67976.57</td>\n",
       "    </tr>\n",
       "    <tr>\n",
       "      <th>2</th>\n",
       "      <td>0</td>\n",
       "      <td>6789</td>\n",
       "      <td>15800268</td>\n",
       "      <td>Costa</td>\n",
       "      <td>825</td>\n",
       "      <td>Germany</td>\n",
       "      <td>Male</td>\n",
       "      <td>37</td>\n",
       "      <td>6</td>\n",
       "      <td>118050.79</td>\n",
       "      <td>1</td>\n",
       "      <td>0</td>\n",
       "      <td>1</td>\n",
       "      <td>52301.15</td>\n",
       "    </tr>\n",
       "    <tr>\n",
       "      <th>3</th>\n",
       "      <td>1</td>\n",
       "      <td>9338</td>\n",
       "      <td>15797751</td>\n",
       "      <td>Pai</td>\n",
       "      <td>466</td>\n",
       "      <td>Germany</td>\n",
       "      <td>Female</td>\n",
       "      <td>47</td>\n",
       "      <td>5</td>\n",
       "      <td>102085.72</td>\n",
       "      <td>1</td>\n",
       "      <td>1</td>\n",
       "      <td>1</td>\n",
       "      <td>183536.24</td>\n",
       "    </tr>\n",
       "    <tr>\n",
       "      <th>4</th>\n",
       "      <td>0</td>\n",
       "      <td>7480</td>\n",
       "      <td>15671987</td>\n",
       "      <td>Meagher</td>\n",
       "      <td>567</td>\n",
       "      <td>Spain</td>\n",
       "      <td>Male</td>\n",
       "      <td>35</td>\n",
       "      <td>8</td>\n",
       "      <td>153137.74</td>\n",
       "      <td>1</td>\n",
       "      <td>1</td>\n",
       "      <td>0</td>\n",
       "      <td>88659.07</td>\n",
       "    </tr>\n",
       "    <tr>\n",
       "      <th>5</th>\n",
       "      <td>0</td>\n",
       "      <td>9387</td>\n",
       "      <td>15672027</td>\n",
       "      <td>McIntyre</td>\n",
       "      <td>717</td>\n",
       "      <td>Germany</td>\n",
       "      <td>Female</td>\n",
       "      <td>33</td>\n",
       "      <td>10</td>\n",
       "      <td>102185.42</td>\n",
       "      <td>2</td>\n",
       "      <td>1</td>\n",
       "      <td>0</td>\n",
       "      <td>23231.93</td>\n",
       "    </tr>\n",
       "    <tr>\n",
       "      <th>6</th>\n",
       "      <td>0</td>\n",
       "      <td>7603</td>\n",
       "      <td>15791769</td>\n",
       "      <td>Gardener</td>\n",
       "      <td>691</td>\n",
       "      <td>France</td>\n",
       "      <td>Female</td>\n",
       "      <td>29</td>\n",
       "      <td>9</td>\n",
       "      <td>116536.43</td>\n",
       "      <td>1</td>\n",
       "      <td>1</td>\n",
       "      <td>0</td>\n",
       "      <td>51987.99</td>\n",
       "    </tr>\n",
       "    <tr>\n",
       "      <th>7</th>\n",
       "      <td>0</td>\n",
       "      <td>877</td>\n",
       "      <td>15581229</td>\n",
       "      <td>Gregory</td>\n",
       "      <td>502</td>\n",
       "      <td>Germany</td>\n",
       "      <td>Female</td>\n",
       "      <td>32</td>\n",
       "      <td>1</td>\n",
       "      <td>173340.83</td>\n",
       "      <td>1</td>\n",
       "      <td>0</td>\n",
       "      <td>1</td>\n",
       "      <td>122763.95</td>\n",
       "    </tr>\n",
       "    <tr>\n",
       "      <th>8</th>\n",
       "      <td>0</td>\n",
       "      <td>5878</td>\n",
       "      <td>15758510</td>\n",
       "      <td>Frolova</td>\n",
       "      <td>474</td>\n",
       "      <td>France</td>\n",
       "      <td>Male</td>\n",
       "      <td>26</td>\n",
       "      <td>6</td>\n",
       "      <td>0.00</td>\n",
       "      <td>2</td>\n",
       "      <td>0</td>\n",
       "      <td>0</td>\n",
       "      <td>152491.22</td>\n",
       "    </tr>\n",
       "    <tr>\n",
       "      <th>9</th>\n",
       "      <td>0</td>\n",
       "      <td>8579</td>\n",
       "      <td>15707011</td>\n",
       "      <td>Morrison</td>\n",
       "      <td>495</td>\n",
       "      <td>France</td>\n",
       "      <td>Male</td>\n",
       "      <td>47</td>\n",
       "      <td>10</td>\n",
       "      <td>137682.68</td>\n",
       "      <td>1</td>\n",
       "      <td>1</td>\n",
       "      <td>0</td>\n",
       "      <td>71071.47</td>\n",
       "    </tr>\n",
       "  </tbody>\n",
       "</table>\n",
       "</div>"
      ],
      "text/plain": [
       "   Exited  RowNumber  CustomerId   Surname  CreditScore Geography  Gender  \\\n",
       "0       0       2604    15583049   Wallace          643   Germany  Female   \n",
       "1       0       5125    15612140    Milano          721     Spain  Female   \n",
       "2       0       6789    15800268     Costa          825   Germany    Male   \n",
       "3       1       9338    15797751       Pai          466   Germany  Female   \n",
       "4       0       7480    15671987   Meagher          567     Spain    Male   \n",
       "5       0       9387    15672027  McIntyre          717   Germany  Female   \n",
       "6       0       7603    15791769  Gardener          691    France  Female   \n",
       "7       0        877    15581229   Gregory          502   Germany  Female   \n",
       "8       0       5878    15758510   Frolova          474    France    Male   \n",
       "9       0       8579    15707011  Morrison          495    France    Male   \n",
       "\n",
       "   Age  Tenure    Balance  NumOfProducts  HasCrCard  IsActiveMember  \\\n",
       "0   34       7  160426.07              1          0               1   \n",
       "1   46       7  137933.39              1          1               1   \n",
       "2   37       6  118050.79              1          0               1   \n",
       "3   47       5  102085.72              1          1               1   \n",
       "4   35       8  153137.74              1          1               0   \n",
       "5   33      10  102185.42              2          1               0   \n",
       "6   29       9  116536.43              1          1               0   \n",
       "7   32       1  173340.83              1          0               1   \n",
       "8   26       6       0.00              2          0               0   \n",
       "9   47      10  137682.68              1          1               0   \n",
       "\n",
       "   EstimatedSalary  \n",
       "0        188533.11  \n",
       "1         67976.57  \n",
       "2         52301.15  \n",
       "3        183536.24  \n",
       "4         88659.07  \n",
       "5         23231.93  \n",
       "6         51987.99  \n",
       "7        122763.95  \n",
       "8        152491.22  \n",
       "9         71071.47  "
      ]
     },
     "execution_count": 5,
     "metadata": {},
     "output_type": "execute_result"
    }
   ],
   "source": [
    "# Mi faccio un'idea di come è fatto il training set, visualizzandone le prime 10 righe.\n",
    "train.head(10)"
   ]
  },
  {
   "cell_type": "code",
   "execution_count": 6,
   "id": "22af868a",
   "metadata": {},
   "outputs": [
    {
     "name": "stdout",
     "output_type": "stream",
     "text": [
      "0    5082\n",
      "1    1318\n",
      "Name: Exited, dtype: int64\n"
     ]
    },
    {
     "data": {
      "image/png": "[encoded data removed]",
      "text/plain": [
       "<Figure size 360x360 with 1 Axes>"
      ]
     },
     "metadata": {},
     "output_type": "display_data"
    }
   ],
   "source": [
    "# Per prima cosa, vediamo come si ripartiscono i clienti nelle due categorie.\n",
    "def plot_target_distribution(target):\n",
    "    exited_value_counts = target.value_counts()\n",
    "    print(exited_value_counts)\n",
    "    plot = exited_value_counts.plot.pie(\n",
    "        figsize = (5, 5),\n",
    "        explode = (0, 0.1),\n",
    "        shadow = True,\n",
    "        autopct = '%1.0f%%',\n",
    "        labels = ['No', 'Yes'],\n",
    "        title = 'None'\n",
    "    )\n",
    "\n",
    "plot_target_distribution(train['Exited'])"
   ]
  },
  {
   "cell_type": "markdown",
   "id": "ecbc774b",
   "metadata": {},
   "source": [
    "Sembra che i clienti che vogliono cambiare banca siano molti meno di quelli che non hanno intenzione di farlo. Il dataset è quindi sbilanciato."
   ]
  },
  {
   "cell_type": "code",
   "execution_count": 7,
   "id": "638828f5",
   "metadata": {},
   "outputs": [
    {
     "data": {
      "text/plain": [
       "Exited               int64\n",
       "RowNumber            int64\n",
       "CustomerId           int64\n",
       "Surname             object\n",
       "CreditScore          int64\n",
       "Geography           object\n",
       "Gender              object\n",
       "Age                  int64\n",
       "Tenure               int64\n",
       "Balance            float64\n",
       "NumOfProducts        int64\n",
       "HasCrCard            int64\n",
       "IsActiveMember       int64\n",
       "EstimatedSalary    float64\n",
       "dtype: object"
      ]
     },
     "execution_count": 7,
     "metadata": {},
     "output_type": "execute_result"
    }
   ],
   "source": [
    "# Mostro l'elenco di tutte le colonne del dataset, insieme al loro tipo di dato.\n",
    "train.dtypes"
   ]
  },
  {
   "cell_type": "markdown",
   "id": "5668ecd5",
   "metadata": {},
   "source": [
    "Non sembrerebbero esserci grossi problemi per quanto riguarda i tipi di dato delle colonne.   \n",
    "Da notare però che ci sono delle feature categoriche (`Exited`, `HasCrCard`, `IsActiveMember`) che sono già codificate come interi. Questo va senz'altro bene per la fase di addestramento (gli algoritmi di ML hanno bisogno di feature numeriche), ma in questa fase di analisi, per evitare confusione, preferirei convertirle in un valore di tipo `object`.\n",
    "    \n",
    "Definisco quindi qui sotto una funzione per effettuare questa prima modifica ai dati."
   ]
  },
  {
   "cell_type": "code",
   "execution_count": 8,
   "id": "d7b9bbed",
   "metadata": {},
   "outputs": [
    {
     "data": {
      "text/html": [
       "<div>\n",
       "<style scoped>\n",
       "    .dataframe tbody tr th:only-of-type {\n",
       "        vertical-align: middle;\n",
       "    }\n",
       "\n",
       "    .dataframe tbody tr th {\n",
       "        vertical-align: top;\n",
       "    }\n",
       "\n",
       "    .dataframe thead th {\n",
       "        text-align: right;\n",
       "    }\n",
       "</style>\n",
       "<table border=\"1\" class=\"dataframe\">\n",
       "  <thead>\n",
       "    <tr style=\"text-align: right;\">\n",
       "      <th></th>\n",
       "      <th>Exited</th>\n",
       "      <th>RowNumber</th>\n",
       "      <th>CustomerId</th>\n",
       "      <th>Surname</th>\n",
       "      <th>CreditScore</th>\n",
       "      <th>Geography</th>\n",
       "      <th>Gender</th>\n",
       "      <th>Age</th>\n",
       "      <th>Tenure</th>\n",
       "      <th>Balance</th>\n",
       "      <th>NumOfProducts</th>\n",
       "      <th>HasCrCard</th>\n",
       "      <th>IsActiveMember</th>\n",
       "      <th>EstimatedSalary</th>\n",
       "    </tr>\n",
       "  </thead>\n",
       "  <tbody>\n",
       "    <tr>\n",
       "      <th>0</th>\n",
       "      <td>No</td>\n",
       "      <td>2604</td>\n",
       "      <td>15583049</td>\n",
       "      <td>Wallace</td>\n",
       "      <td>643</td>\n",
       "      <td>Germany</td>\n",
       "      <td>Female</td>\n",
       "      <td>34</td>\n",
       "      <td>7</td>\n",
       "      <td>160426.07</td>\n",
       "      <td>1</td>\n",
       "      <td>No</td>\n",
       "      <td>Yes</td>\n",
       "      <td>188533.11</td>\n",
       "    </tr>\n",
       "    <tr>\n",
       "      <th>1</th>\n",
       "      <td>No</td>\n",
       "      <td>5125</td>\n",
       "      <td>15612140</td>\n",
       "      <td>Milano</td>\n",
       "      <td>721</td>\n",
       "      <td>Spain</td>\n",
       "      <td>Female</td>\n",
       "      <td>46</td>\n",
       "      <td>7</td>\n",
       "      <td>137933.39</td>\n",
       "      <td>1</td>\n",
       "      <td>Yes</td>\n",
       "      <td>Yes</td>\n",
       "      <td>67976.57</td>\n",
       "    </tr>\n",
       "    <tr>\n",
       "      <th>2</th>\n",
       "      <td>No</td>\n",
       "      <td>6789</td>\n",
       "      <td>15800268</td>\n",
       "      <td>Costa</td>\n",
       "      <td>825</td>\n",
       "      <td>Germany</td>\n",
       "      <td>Male</td>\n",
       "      <td>37</td>\n",
       "      <td>6</td>\n",
       "      <td>118050.79</td>\n",
       "      <td>1</td>\n",
       "      <td>No</td>\n",
       "      <td>Yes</td>\n",
       "      <td>52301.15</td>\n",
       "    </tr>\n",
       "    <tr>\n",
       "      <th>3</th>\n",
       "      <td>Yes</td>\n",
       "      <td>9338</td>\n",
       "      <td>15797751</td>\n",
       "      <td>Pai</td>\n",
       "      <td>466</td>\n",
       "      <td>Germany</td>\n",
       "      <td>Female</td>\n",
       "      <td>47</td>\n",
       "      <td>5</td>\n",
       "      <td>102085.72</td>\n",
       "      <td>1</td>\n",
       "      <td>Yes</td>\n",
       "      <td>Yes</td>\n",
       "      <td>183536.24</td>\n",
       "    </tr>\n",
       "    <tr>\n",
       "      <th>4</th>\n",
       "      <td>No</td>\n",
       "      <td>7480</td>\n",
       "      <td>15671987</td>\n",
       "      <td>Meagher</td>\n",
       "      <td>567</td>\n",
       "      <td>Spain</td>\n",
       "      <td>Male</td>\n",
       "      <td>35</td>\n",
       "      <td>8</td>\n",
       "      <td>153137.74</td>\n",
       "      <td>1</td>\n",
       "      <td>Yes</td>\n",
       "      <td>No</td>\n",
       "      <td>88659.07</td>\n",
       "    </tr>\n",
       "    <tr>\n",
       "      <th>5</th>\n",
       "      <td>No</td>\n",
       "      <td>9387</td>\n",
       "      <td>15672027</td>\n",
       "      <td>McIntyre</td>\n",
       "      <td>717</td>\n",
       "      <td>Germany</td>\n",
       "      <td>Female</td>\n",
       "      <td>33</td>\n",
       "      <td>10</td>\n",
       "      <td>102185.42</td>\n",
       "      <td>2</td>\n",
       "      <td>Yes</td>\n",
       "      <td>No</td>\n",
       "      <td>23231.93</td>\n",
       "    </tr>\n",
       "    <tr>\n",
       "      <th>6</th>\n",
       "      <td>No</td>\n",
       "      <td>7603</td>\n",
       "      <td>15791769</td>\n",
       "      <td>Gardener</td>\n",
       "      <td>691</td>\n",
       "      <td>France</td>\n",
       "      <td>Female</td>\n",
       "      <td>29</td>\n",
       "      <td>9</td>\n",
       "      <td>116536.43</td>\n",
       "      <td>1</td>\n",
       "      <td>Yes</td>\n",
       "      <td>No</td>\n",
       "      <td>51987.99</td>\n",
       "    </tr>\n",
       "    <tr>\n",
       "      <th>7</th>\n",
       "      <td>No</td>\n",
       "      <td>877</td>\n",
       "      <td>15581229</td>\n",
       "      <td>Gregory</td>\n",
       "      <td>502</td>\n",
       "      <td>Germany</td>\n",
       "      <td>Female</td>\n",
       "      <td>32</td>\n",
       "      <td>1</td>\n",
       "      <td>173340.83</td>\n",
       "      <td>1</td>\n",
       "      <td>No</td>\n",
       "      <td>Yes</td>\n",
       "      <td>122763.95</td>\n",
       "    </tr>\n",
       "    <tr>\n",
       "      <th>8</th>\n",
       "      <td>No</td>\n",
       "      <td>5878</td>\n",
       "      <td>15758510</td>\n",
       "      <td>Frolova</td>\n",
       "      <td>474</td>\n",
       "      <td>France</td>\n",
       "      <td>Male</td>\n",
       "      <td>26</td>\n",
       "      <td>6</td>\n",
       "      <td>0.00</td>\n",
       "      <td>2</td>\n",
       "      <td>No</td>\n",
       "      <td>No</td>\n",
       "      <td>152491.22</td>\n",
       "    </tr>\n",
       "    <tr>\n",
       "      <th>9</th>\n",
       "      <td>No</td>\n",
       "      <td>8579</td>\n",
       "      <td>15707011</td>\n",
       "      <td>Morrison</td>\n",
       "      <td>495</td>\n",
       "      <td>France</td>\n",
       "      <td>Male</td>\n",
       "      <td>47</td>\n",
       "      <td>10</td>\n",
       "      <td>137682.68</td>\n",
       "      <td>1</td>\n",
       "      <td>Yes</td>\n",
       "      <td>No</td>\n",
       "      <td>71071.47</td>\n",
       "    </tr>\n",
       "  </tbody>\n",
       "</table>\n",
       "</div>"
      ],
      "text/plain": [
       "  Exited  RowNumber  CustomerId   Surname  CreditScore Geography  Gender  Age  \\\n",
       "0     No       2604    15583049   Wallace          643   Germany  Female   34   \n",
       "1     No       5125    15612140    Milano          721     Spain  Female   46   \n",
       "2     No       6789    15800268     Costa          825   Germany    Male   37   \n",
       "3    Yes       9338    15797751       Pai          466   Germany  Female   47   \n",
       "4     No       7480    15671987   Meagher          567     Spain    Male   35   \n",
       "5     No       9387    15672027  McIntyre          717   Germany  Female   33   \n",
       "6     No       7603    15791769  Gardener          691    France  Female   29   \n",
       "7     No        877    15581229   Gregory          502   Germany  Female   32   \n",
       "8     No       5878    15758510   Frolova          474    France    Male   26   \n",
       "9     No       8579    15707011  Morrison          495    France    Male   47   \n",
       "\n",
       "   Tenure    Balance  NumOfProducts HasCrCard IsActiveMember  EstimatedSalary  \n",
       "0       7  160426.07              1        No            Yes        188533.11  \n",
       "1       7  137933.39              1       Yes            Yes         67976.57  \n",
       "2       6  118050.79              1        No            Yes         52301.15  \n",
       "3       5  102085.72              1       Yes            Yes        183536.24  \n",
       "4       8  153137.74              1       Yes             No         88659.07  \n",
       "5      10  102185.42              2       Yes             No         23231.93  \n",
       "6       9  116536.43              1       Yes             No         51987.99  \n",
       "7       1  173340.83              1        No            Yes        122763.95  \n",
       "8       6       0.00              2        No             No        152491.22  \n",
       "9      10  137682.68              1       Yes             No         71071.47  "
      ]
     },
     "execution_count": 8,
     "metadata": {},
     "output_type": "execute_result"
    }
   ],
   "source": [
    "def fixDataTypes(data):\n",
    "    \n",
    "    # Crea una copia dei dati per non corrompere quelli originali.\n",
    "    data = data.copy()\n",
    "    \n",
    "    # Converti le colonne Exited, HasCrCard, IsActiveMember in categoriche.\n",
    "    data['Exited'] = data['Exited'].map({1: 'Yes', 0: 'No'})\n",
    "    data['HasCrCard'] = data['HasCrCard'].map({1: 'Yes', 0: 'No'})\n",
    "    data['IsActiveMember'] = data['IsActiveMember'].map({1: 'Yes', 0: 'No'})\n",
    "    \n",
    "    # Restituisci i dati trasformati.\n",
    "    return data\n",
    "\n",
    "# Applica la trasformazione sia al train che al test set.\n",
    "train = fixDataTypes(train)\n",
    "test  = fixDataTypes(test)\n",
    "\n",
    "# Mostro il nuovo train set.\n",
    "train.head(10)"
   ]
  },
  {
   "cell_type": "code",
   "execution_count": 9,
   "id": "01a2e270",
   "metadata": {},
   "outputs": [
    {
     "name": "stdout",
     "output_type": "stream",
     "text": [
      "Feature Numeriche: \n"
     ]
    },
    {
     "data": {
      "text/html": [
       "<div>\n",
       "<style scoped>\n",
       "    .dataframe tbody tr th:only-of-type {\n",
       "        vertical-align: middle;\n",
       "    }\n",
       "\n",
       "    .dataframe tbody tr th {\n",
       "        vertical-align: top;\n",
       "    }\n",
       "\n",
       "    .dataframe thead th {\n",
       "        text-align: right;\n",
       "    }\n",
       "</style>\n",
       "<table border=\"1\" class=\"dataframe\">\n",
       "  <thead>\n",
       "    <tr style=\"text-align: right;\">\n",
       "      <th></th>\n",
       "      <th>count</th>\n",
       "      <th>mean</th>\n",
       "      <th>std</th>\n",
       "      <th>min</th>\n",
       "      <th>25%</th>\n",
       "      <th>50%</th>\n",
       "      <th>75%</th>\n",
       "      <th>max</th>\n",
       "    </tr>\n",
       "  </thead>\n",
       "  <tbody>\n",
       "    <tr>\n",
       "      <th>RowNumber</th>\n",
       "      <td>6400.0</td>\n",
       "      <td>5.003472e+03</td>\n",
       "      <td>2892.324766</td>\n",
       "      <td>2.00</td>\n",
       "      <td>2.501750e+03</td>\n",
       "      <td>4.994000e+03</td>\n",
       "      <td>7.485000e+03</td>\n",
       "      <td>10000.00</td>\n",
       "    </tr>\n",
       "    <tr>\n",
       "      <th>CustomerId</th>\n",
       "      <td>6400.0</td>\n",
       "      <td>1.569045e+07</td>\n",
       "      <td>71817.852956</td>\n",
       "      <td>15565701.00</td>\n",
       "      <td>1.562795e+07</td>\n",
       "      <td>1.569054e+07</td>\n",
       "      <td>1.575318e+07</td>\n",
       "      <td>15815660.00</td>\n",
       "    </tr>\n",
       "    <tr>\n",
       "      <th>CreditScore</th>\n",
       "      <td>6400.0</td>\n",
       "      <td>6.515442e+02</td>\n",
       "      <td>96.615192</td>\n",
       "      <td>350.00</td>\n",
       "      <td>5.850000e+02</td>\n",
       "      <td>6.530000e+02</td>\n",
       "      <td>7.190000e+02</td>\n",
       "      <td>850.00</td>\n",
       "    </tr>\n",
       "    <tr>\n",
       "      <th>Age</th>\n",
       "      <td>6400.0</td>\n",
       "      <td>3.894922e+01</td>\n",
       "      <td>10.488688</td>\n",
       "      <td>18.00</td>\n",
       "      <td>3.200000e+01</td>\n",
       "      <td>3.700000e+01</td>\n",
       "      <td>4.400000e+01</td>\n",
       "      <td>92.00</td>\n",
       "    </tr>\n",
       "    <tr>\n",
       "      <th>Tenure</th>\n",
       "      <td>6400.0</td>\n",
       "      <td>5.018906e+00</td>\n",
       "      <td>2.874809</td>\n",
       "      <td>0.00</td>\n",
       "      <td>3.000000e+00</td>\n",
       "      <td>5.000000e+00</td>\n",
       "      <td>7.000000e+00</td>\n",
       "      <td>10.00</td>\n",
       "    </tr>\n",
       "    <tr>\n",
       "      <th>Balance</th>\n",
       "      <td>6400.0</td>\n",
       "      <td>7.637832e+04</td>\n",
       "      <td>62502.309420</td>\n",
       "      <td>0.00</td>\n",
       "      <td>0.000000e+00</td>\n",
       "      <td>9.641052e+04</td>\n",
       "      <td>1.278199e+05</td>\n",
       "      <td>250898.09</td>\n",
       "    </tr>\n",
       "    <tr>\n",
       "      <th>NumOfProducts</th>\n",
       "      <td>6400.0</td>\n",
       "      <td>1.528437e+00</td>\n",
       "      <td>0.580027</td>\n",
       "      <td>1.00</td>\n",
       "      <td>1.000000e+00</td>\n",
       "      <td>1.000000e+00</td>\n",
       "      <td>2.000000e+00</td>\n",
       "      <td>4.00</td>\n",
       "    </tr>\n",
       "    <tr>\n",
       "      <th>EstimatedSalary</th>\n",
       "      <td>6400.0</td>\n",
       "      <td>9.998370e+04</td>\n",
       "      <td>57856.440073</td>\n",
       "      <td>90.07</td>\n",
       "      <td>5.026306e+04</td>\n",
       "      <td>9.980959e+04</td>\n",
       "      <td>1.496996e+05</td>\n",
       "      <td>199970.74</td>\n",
       "    </tr>\n",
       "  </tbody>\n",
       "</table>\n",
       "</div>"
      ],
      "text/plain": [
       "                  count          mean           std          min  \\\n",
       "RowNumber        6400.0  5.003472e+03   2892.324766         2.00   \n",
       "CustomerId       6400.0  1.569045e+07  71817.852956  15565701.00   \n",
       "CreditScore      6400.0  6.515442e+02     96.615192       350.00   \n",
       "Age              6400.0  3.894922e+01     10.488688        18.00   \n",
       "Tenure           6400.0  5.018906e+00      2.874809         0.00   \n",
       "Balance          6400.0  7.637832e+04  62502.309420         0.00   \n",
       "NumOfProducts    6400.0  1.528437e+00      0.580027         1.00   \n",
       "EstimatedSalary  6400.0  9.998370e+04  57856.440073        90.07   \n",
       "\n",
       "                          25%           50%           75%          max  \n",
       "RowNumber        2.501750e+03  4.994000e+03  7.485000e+03     10000.00  \n",
       "CustomerId       1.562795e+07  1.569054e+07  1.575318e+07  15815660.00  \n",
       "CreditScore      5.850000e+02  6.530000e+02  7.190000e+02       850.00  \n",
       "Age              3.200000e+01  3.700000e+01  4.400000e+01        92.00  \n",
       "Tenure           3.000000e+00  5.000000e+00  7.000000e+00        10.00  \n",
       "Balance          0.000000e+00  9.641052e+04  1.278199e+05    250898.09  \n",
       "NumOfProducts    1.000000e+00  1.000000e+00  2.000000e+00         4.00  \n",
       "EstimatedSalary  5.026306e+04  9.980959e+04  1.496996e+05    199970.74  "
      ]
     },
     "metadata": {},
     "output_type": "display_data"
    },
    {
     "name": "stdout",
     "output_type": "stream",
     "text": [
      "\n",
      "Feature Categoriche: \n"
     ]
    },
    {
     "data": {
      "text/html": [
       "<div>\n",
       "<style scoped>\n",
       "    .dataframe tbody tr th:only-of-type {\n",
       "        vertical-align: middle;\n",
       "    }\n",
       "\n",
       "    .dataframe tbody tr th {\n",
       "        vertical-align: top;\n",
       "    }\n",
       "\n",
       "    .dataframe thead th {\n",
       "        text-align: right;\n",
       "    }\n",
       "</style>\n",
       "<table border=\"1\" class=\"dataframe\">\n",
       "  <thead>\n",
       "    <tr style=\"text-align: right;\">\n",
       "      <th></th>\n",
       "      <th>count</th>\n",
       "      <th>unique</th>\n",
       "      <th>top</th>\n",
       "      <th>freq</th>\n",
       "    </tr>\n",
       "  </thead>\n",
       "  <tbody>\n",
       "    <tr>\n",
       "      <th>Exited</th>\n",
       "      <td>6400</td>\n",
       "      <td>2</td>\n",
       "      <td>No</td>\n",
       "      <td>5082</td>\n",
       "    </tr>\n",
       "    <tr>\n",
       "      <th>Surname</th>\n",
       "      <td>6400</td>\n",
       "      <td>2325</td>\n",
       "      <td>Martin</td>\n",
       "      <td>21</td>\n",
       "    </tr>\n",
       "    <tr>\n",
       "      <th>Geography</th>\n",
       "      <td>6400</td>\n",
       "      <td>3</td>\n",
       "      <td>France</td>\n",
       "      <td>3167</td>\n",
       "    </tr>\n",
       "    <tr>\n",
       "      <th>Gender</th>\n",
       "      <td>6400</td>\n",
       "      <td>2</td>\n",
       "      <td>Male</td>\n",
       "      <td>3491</td>\n",
       "    </tr>\n",
       "    <tr>\n",
       "      <th>HasCrCard</th>\n",
       "      <td>6400</td>\n",
       "      <td>2</td>\n",
       "      <td>Yes</td>\n",
       "      <td>4503</td>\n",
       "    </tr>\n",
       "    <tr>\n",
       "      <th>IsActiveMember</th>\n",
       "      <td>6400</td>\n",
       "      <td>2</td>\n",
       "      <td>Yes</td>\n",
       "      <td>3283</td>\n",
       "    </tr>\n",
       "  </tbody>\n",
       "</table>\n",
       "</div>"
      ],
      "text/plain": [
       "               count unique     top  freq\n",
       "Exited          6400      2      No  5082\n",
       "Surname         6400   2325  Martin    21\n",
       "Geography       6400      3  France  3167\n",
       "Gender          6400      2    Male  3491\n",
       "HasCrCard       6400      2     Yes  4503\n",
       "IsActiveMember  6400      2     Yes  3283"
      ]
     },
     "metadata": {},
     "output_type": "display_data"
    }
   ],
   "source": [
    "# Mostro una descrizione riassuntiva di tutte le feature nel train set.\n",
    "cat_desc = train.describe(include = ['object']).T\n",
    "num_desc = train.describe(exclude = ['object']).T\n",
    "\n",
    "print('Feature Numeriche: ')\n",
    "display(num_desc)\n",
    "print('\\nFeature Categoriche: ')\n",
    "display(cat_desc)"
   ]
  },
  {
   "cell_type": "markdown",
   "id": "ba4b6edd",
   "metadata": {},
   "source": [
    "Vorrei riservare adesso particolare attenzione alle colonne `RowNumber` e `CustomerId`: intuitivamente, sembrano essere rispettivamente una sorta di indice di riga nel database dei clienti e un identificatore univoco del cliente.   \n",
    "Verifico quindi adesso se tali feature hanno effettivamente un valore diverso per ogni cliente."
   ]
  },
  {
   "cell_type": "code",
   "execution_count": 10,
   "id": "a817e3de",
   "metadata": {},
   "outputs": [
    {
     "data": {
      "text/plain": [
       "RowNumber     6400\n",
       "CustomerId    6400\n",
       "dtype: int64"
      ]
     },
     "execution_count": 10,
     "metadata": {},
     "output_type": "execute_result"
    }
   ],
   "source": [
    "train[['RowNumber', 'CustomerId']].nunique()"
   ]
  },
  {
   "cell_type": "markdown",
   "id": "47108918",
   "metadata": {},
   "source": [
    "Come immaginavo, abbiamo un valore diverso di entrambe le feature per ogni cliente.\n",
    "Queste due feature non sono chiaramente discriminanti nel determinare se un cliente ha o meno intenzione di lasciare la banca, e quindi vanno eliminate."
   ]
  },
  {
   "cell_type": "code",
   "execution_count": 11,
   "id": "9236e6f1",
   "metadata": {},
   "outputs": [],
   "source": [
    "def drop_unique_features(data):\n",
    "    return data.drop(['RowNumber', 'CustomerId'], axis = 1)\n",
    "\n",
    "# Eliminiamo l'id utente sia dal train che dal test set.\n",
    "train = drop_unique_features(train)\n",
    "test  = drop_unique_features(test)"
   ]
  },
  {
   "cell_type": "markdown",
   "id": "6f55596e",
   "metadata": {},
   "source": [
    "A questo punto, vorrei riservare particolare attenzione anche alla feature `Surname`, ovvero al cognome del cliente.\n",
    "Tale feature non è esattamente univoca per ogni cliente, ma la quantità di valori univoci è veramente alta (2325). Questo potrebbe causare dei problemi in futuro nel caso in cui dovesse essere necessario codificare le feature categoriche seguendo l'approccio \"One Hot\".   \n",
    "In ogni caso, questa feature mi sembra intuitivamente molto poco utile ai nostri fini: decido quindi di semplificare ulteriormente il dataset eliminandola."
   ]
  },
  {
   "cell_type": "code",
   "execution_count": 12,
   "id": "fadab7ce",
   "metadata": {},
   "outputs": [],
   "source": [
    "train = train.drop('Surname', axis = 1)\n",
    "test  = test.drop('Surname', axis = 1)"
   ]
  },
  {
   "cell_type": "markdown",
   "id": "dffe5c45",
   "metadata": {},
   "source": [
    "A questo punto può essere utile visualizzare l'elenco di tutti i valori presenti per ogni categoria."
   ]
  },
  {
   "cell_type": "code",
   "execution_count": 13,
   "id": "4bd8eb97",
   "metadata": {},
   "outputs": [
    {
     "data": {
      "text/plain": [
       "{'Exited': {'No', 'Yes'},\n",
       " 'Geography': {'France', 'Germany', 'Spain'},\n",
       " 'Gender': {'Female', 'Male'},\n",
       " 'HasCrCard': {'No', 'Yes'},\n",
       " 'IsActiveMember': {'No', 'Yes'}}"
      ]
     },
     "execution_count": 13,
     "metadata": {},
     "output_type": "execute_result"
    }
   ],
   "source": [
    "# Funzione che calcola l'insieme dei valori presenti per ogni feature categorica.\n",
    "def get_cat_unique_values(data):\n",
    "    return {\n",
    "        col: set(data[col].unique())\n",
    "        for col in data.select_dtypes(['object']).columns\n",
    "    }\n",
    "\n",
    "get_cat_unique_values(train)"
   ]
  },
  {
   "cell_type": "markdown",
   "id": "b5899186",
   "metadata": {},
   "source": [
    "Non sembrano esserci anomalie in questi valori.   \n",
    "Preferisco però convertire tutte queste feature categoriche in un tipo apposito fornito dalla libreria Pandas."
   ]
  },
  {
   "cell_type": "code",
   "execution_count": 14,
   "id": "0177860f",
   "metadata": {},
   "outputs": [],
   "source": [
    "cat_columns = train.select_dtypes(['object']).columns\n",
    "train[cat_columns] = train[cat_columns].astype('category')\n",
    "test[cat_columns]  = test[cat_columns].astype('category')"
   ]
  },
  {
   "cell_type": "markdown",
   "id": "d9c50c26",
   "metadata": {},
   "source": [
    "Occupiamoci ora di eventuali valori mancanti nelle colonne.\n",
    "Dalla breve descrizione visualizzata sopra, almeno nelle colonne categoriche sembra che non ci siano valori nulli.\n",
    "Verifichiamolo con maggiore accuratezza, in modo da esserne sicuri."
   ]
  },
  {
   "cell_type": "code",
   "execution_count": 15,
   "id": "89b7ef28",
   "metadata": {},
   "outputs": [
    {
     "data": {
      "text/plain": [
       "{}"
      ]
     },
     "execution_count": 15,
     "metadata": {},
     "output_type": "execute_result"
    }
   ],
   "source": [
    "# Funzione che restituisce l'insieme delle colonne contenenti valori mancanti.\n",
    "# La funzione restituisce un dizionario le cui chiavi sono i nomi delle colonne con valori mancanti e i valori\n",
    "# il numero di occorrenze nulle.\n",
    "def get_cols_with_missing(train, test):\n",
    "    \n",
    "    return {\n",
    "        col: (train[col].isnull().sum() + test[col].isnull().sum())\n",
    "        for col in train.columns\n",
    "        if train[col].isnull().any() or test[col].isnull().any()\n",
    "    }\n",
    "\n",
    "get_cols_with_missing(train, test)"
   ]
  },
  {
   "cell_type": "markdown",
   "id": "9e52d248",
   "metadata": {},
   "source": [
    "Fortunatamente, nel dataset non c'è nessun valore nullo!"
   ]
  },
  {
   "cell_type": "markdown",
   "id": "ed5fd38b",
   "metadata": {},
   "source": [
    "## Analisi e trasformazione del dataset\n",
    "Per prima cosa, definisco alcune funzioni per graficare le relazioni tra le varie feature e la variabile target."
   ]
  },
  {
   "cell_type": "code",
   "execution_count": 16,
   "id": "b9619cc3",
   "metadata": {},
   "outputs": [],
   "source": [
    "# Funzione per calcolare il numero di righe e colonne ottimale per una griglia di grafici, in base al numero di\n",
    "# grafici da visualizzare e al massimo numero di grafici per riga ammesso.\n",
    "def plot_grid_rows_cols(plots_num, max_plots_per_row):\n",
    "    if (plots_num <= max_plots_per_row):\n",
    "        ncols = plots_num\n",
    "    else:\n",
    "        ncols = max_plots_per_row\n",
    "    nrows = math.ceil(plots_num / max_plots_per_row)\n",
    "    \n",
    "    return (nrows, ncols)\n",
    "\n",
    "\n",
    "# Funzione che costruisce una griglia di grafici che mettono in relazione un certo insieme di feature\n",
    "# (considerate singolarmente) con la variabile target.\n",
    "def plot_grid(\n",
    "    features,\n",
    "    target,\n",
    "    plot_func = sns.histplot,\n",
    "    plot_args = {},\n",
    "    data = None,\n",
    "    max_plots_per_row = 3,\n",
    "    figsize = (10, 6)\n",
    "):\n",
    "    \n",
    "    # Se alla funzione è stato passato un dataframe, estrai feature e target da lì.\n",
    "    if data is not None:\n",
    "        features = data[features]\n",
    "        target = data[target]\n",
    "    \n",
    "    # Calcolo il numero di righe e colonne della griglia di grafici, in base al numero delle feature.\n",
    "    features_num = len(features.columns)\n",
    "    nrows, ncols = plot_grid_rows_cols(features_num, max_plots_per_row)\n",
    "    \n",
    "    # Costruisco la griglia di grafici.\n",
    "    fig, axs = plt.subplots(ncols = ncols, nrows = nrows, squeeze = False, figsize = figsize)\n",
    "    \n",
    "    # Mostra i grafici per tutte le varie feature.\n",
    "    for i in range(features_num):\n",
    "        plot_func(\n",
    "            x = features.iloc[:, i],\n",
    "            hue = target,\n",
    "            ax = axs[i // max_plots_per_row][i % max_plots_per_row],\n",
    "            **plot_args\n",
    "        )\n",
    "    \n",
    "    # Rimuovi grafici inutili e vuoti.\n",
    "    for j in range(i + 1, ncols * nrows):\n",
    "        fig.delaxes(axs[j // max_plots_per_row][j % max_plots_per_row])\n",
    "        \n",
    "    # Perfeziona la spaziatura tra i vari grafici.\n",
    "    plt.subplots_adjust(wspace = 0.2, hspace = 0.5)\n",
    "    plt.show()"
   ]
  },
  {
   "cell_type": "markdown",
   "id": "d5637d30",
   "metadata": {},
   "source": [
    "Per risolvere questo problema di classificazione, utilizzerò un `RandomForestClassifier`, ovvero una \"foresta\" di alberi di decisione. Questo modello costruisce una moltitudine di alberi di decisione: la predizione dell'intera foresta corrisponde alla media delle predizioni dei singoli alberi che la compongono. Questo approccio garantisce prestazioni solitamente migliori che non addestrando un singolo albero di decisione.\n",
    "\n",
    "Per analizzare i progressi fatti durante la trasformazione dei dati, utilizzerò una funzione di utilità `score_model` per valutare le performance del modello.\n",
    "Poiché non abbiamo moltissimi esempi nel nostro dataset (ne abbiamo qualche migliaio), in fase di valutazione del modello utilizzerò la Cross Validation e restituirò come metrica di valutazione la media delle accuracy calcolate per ognuno dei \"fold\"."
   ]
  },
  {
   "cell_type": "code",
   "execution_count": 17,
   "id": "3a7db3a2",
   "metadata": {},
   "outputs": [],
   "source": [
    "# Codifica tutte le feature categoriche e la variabile target, trasformandole in numeriche.\n",
    "# Utilizzerò la codifica Label per le categorie binarie e la codifica One-Hot per le altre.\n",
    "def encode(X, y):\n",
    "    \n",
    "    # Lista delle colonne categoriche.\n",
    "    cat_columns = X.select_dtypes(['category']).columns\n",
    "    \n",
    "    # Lista delle colonne binarie.\n",
    "    binary_columns = [\n",
    "        col\n",
    "        for col in cat_columns\n",
    "        if len(X[col].cat.categories) <= 2\n",
    "    ]\n",
    "    \n",
    "    # Lista delle colonne NON binarie.\n",
    "    multi_value_columns = cat_columns.difference(binary_columns)\n",
    "    \n",
    "    # Converti le colonne NON binarie in numeriche, seguendo l'approccio One-Hot Encoding.\n",
    "    X = pd.get_dummies(X, columns = multi_value_columns)\n",
    "    \n",
    "    # Converti le colonne binarie in numeriche, seguendo l'approccio Label Encoding.\n",
    "    for col in binary_columns:\n",
    "        X[col] = X[col].cat.codes\n",
    "    \n",
    "    return (X, y.cat.codes)\n",
    "\n",
    "\n",
    "# Funzione che restituisce un \"preprocessore\" dei dati, che viene utilizzato per effettuare determinate\n",
    "# trasformazioni sul dataset (e.g. scalatura dei dati).\n",
    "def make_preprocessor(numeric_columns):\n",
    "    return ColumnTransformer(\n",
    "        remainder = 'passthrough',\n",
    "        transformers = [\n",
    "            ('scaler', StandardScaler(), numeric_columns)\n",
    "        ]\n",
    "    )\n",
    "\n",
    "\n",
    "# Funzione che restituisce un classificatore di base, da utilizzare per analizzare i risultati delle\n",
    "# trasformazioni sul dataset tramite Cross Validation\n",
    "def make_classifier():\n",
    "    return RandomForestClassifier(n_estimators = 50, random_state = 13)\n",
    "    \n",
    "\n",
    "# Funzione che restituisce una pipeline di base, da utilizzare per analizzare i risultati delle\n",
    "# trasformazioni sul dataset tramite Cross Validation.\n",
    "def base_pipeline(numeric_columns):\n",
    "    return Pipeline(\n",
    "        steps = [\n",
    "            ('preprocessor', make_preprocessor(numeric_columns)),\n",
    "            ('classifier', make_classifier())\n",
    "        ]\n",
    "    )\n",
    "    \n",
    "\n",
    "# Funzione per valutare il modello base tramite Cross Validation.\n",
    "def score_model(X, y, model = None, mustEncode = True):\n",
    "    \n",
    "    # Se non è stato fornito alcun modello, ne costruisco uno di base.\n",
    "    if model == None:\n",
    "        model = base_pipeline(X.select_dtypes(exclude = ['category']).columns)\n",
    "    \n",
    "    # Codifico le feature categoriche e il target (se necessario).\n",
    "    if (mustEncode):\n",
    "        X, y = encode(X, y)\n",
    "    \n",
    "    # Calcolo le accuracy per tutti i 5 fold.\n",
    "    scores = cross_val_score(\n",
    "        model, X, y, cv = 5, scoring = 'accuracy'\n",
    "    )\n",
    "    \n",
    "    # Restituisco la media di tutte le accuracy calcolate.\n",
    "    return scores.mean()"
   ]
  },
  {
   "cell_type": "markdown",
   "id": "09f054f7",
   "metadata": {},
   "source": [
    "A questo punto, calcolo l'accuracy attuale per il dataset corrente e il modello di base. In questo modo, potrò verificare se le future azioni di trasformazione del dataset porteranno o meno dei benefici o dei peggioramenti."
   ]
  },
  {
   "cell_type": "code",
   "execution_count": 18,
   "id": "a2febe43",
   "metadata": {},
   "outputs": [
    {
     "data": {
      "text/plain": [
       "0.85546875"
      ]
     },
     "execution_count": 18,
     "metadata": {},
     "output_type": "execute_result"
    }
   ],
   "source": [
    "# Suddivido train e test set in features (X) e target (y).\n",
    "X_train = train.drop('Exited', axis = 1)\n",
    "X_test  = test.drop('Exited', axis = 1)\n",
    "y_train = train['Exited']\n",
    "y_test  = test['Exited']\n",
    "\n",
    "# Valuto il modello corrente.\n",
    "score_model(X_train, y_train)"
   ]
  },
  {
   "cell_type": "markdown",
   "id": "a205b7c7",
   "metadata": {},
   "source": [
    "L'accuracy iniziale del nostro modello non è affatto male.   \n",
    "Nella sezione successiva proverò a modificare il dataset per cercare di migliorare le prestazioni del modello e di snellire il nostro dataset (con il beneficio di ridurre anche il rischio di eventuale overfitting) senza degradarle eccessivamente, con l'obiettivo di trovare il minimo insieme di informazione necessario per spiegare il fenomeno che abbiamo in esame (clienti che abbandonano o meno la propria banca)."
   ]
  },
  {
   "cell_type": "markdown",
   "id": "9694affe",
   "metadata": {},
   "source": [
    "## Feature Engineering\n",
    "Proverò adesso ad analizzare ulteriormente i dati e ad applicare alcune tecniche di feature engineering.   \n",
    "La prima cosa che voglio fare è calcolare i coefficienti di correlazione tra tutte le feature numeriche del dataset."
   ]
  },
  {
   "cell_type": "code",
   "execution_count": 19,
   "id": "f6ba8d24",
   "metadata": {},
   "outputs": [
    {
     "data": {
      "text/plain": [
       "<AxesSubplot:>"
      ]
     },
     "execution_count": 19,
     "metadata": {},
     "output_type": "execute_result"
    },
    {
     "data": {
      "image/png": "[encoded data removed]",
      "text/plain": [
       "<Figure size 576x432 with 2 Axes>"
      ]
     },
     "metadata": {
      "needs_background": "light"
     },
     "output_type": "display_data"
    }
   ],
   "source": [
    "plt.figure(figsize = (8, 6))\n",
    "sns.heatmap(X_train.corr(), annot = True)"
   ]
  },
  {
   "cell_type": "markdown",
   "id": "9c154972",
   "metadata": {},
   "source": [
    "Possiamo osservare come le feature siano tutte piuttosto indipendenti l'una dall'altra.\n",
    "L'analisi della matrice di correlazione non ci suggerisce quindi di eliminare alcuna feature.\n",
    "\n",
    "Proseguiamo ora con una prima analisi sull'utilità di tutte le feature, considerate singolarmente.\n",
    "Per avere una misura dell'utilità di ogni feature ne calcolerò il valore di Mutua Informazione (in seguito abbreviato con MI) con la variabile target.   \n",
    "La MI è un valore che misura la dipendenza tra due variabili in termini di incertezza: più tale valore è alto, maggiore è l'informazione su una delle due variabili che possiamo ricavare conoscendo il valore dell'altra.   \n",
    "La MI ha il vantaggio di captare sia relazioni lineari che non lineari e di essere adeguata sia per variabili numeriche che categoriche.\n",
    "Definisco quindi qui sotto alcune funzioni di utilità per il calcolo dei valori di MI tra la variabile target e tutte le feature, nonché per la visualizzazione di tali valori.   \n",
    "Il credito per buona parte di questo codice va a Ryan Holbrook, autore del micro-corso \"Feature Engineering\" su Kaggle."
   ]
  },
  {
   "cell_type": "code",
   "execution_count": 20,
   "id": "a0fb9380",
   "metadata": {},
   "outputs": [],
   "source": [
    "# Calcola i valori di MI tra tutte le feature X e il target y.\n",
    "def compute_mi_scores(X, y):\n",
    "    \n",
    "    # Codifica le feature categoriche e la variabile target, convertendole in numeriche.\n",
    "    X = X.copy()\n",
    "    for col in X.select_dtypes(['category']):\n",
    "        X[col], _ = X[col].factorize()\n",
    "    y, _ = y.factorize()\n",
    "    \n",
    "    # Elenco delle feature \"discrete\": tutte quelle che ora sono di tipo numerico intero.\n",
    "    discrete_features = [pd.api.types.is_integer_dtype(t) for t in X.dtypes]\n",
    "    \n",
    "    # Calcola i valori di MI.\n",
    "    mi_scores = mutual_info_classif(X, y, discrete_features = discrete_features, random_state = 0)\n",
    "    mi_scores = pd.Series(mi_scores, name = \"MI Scores\", index = X.columns)\n",
    "    mi_scores = mi_scores.sort_values(ascending = False)\n",
    "    return mi_scores\n",
    "\n",
    "\n",
    "# Grafica i valori di MI.\n",
    "def plot_mi_scores(scores):\n",
    "    scores = scores.sort_values(ascending = True)\n",
    "    width = np.arange(len(scores))\n",
    "    ticks = list(scores.index)\n",
    "    plt.figure(figsize = (10, 6))\n",
    "    plt.barh(width, scores)\n",
    "    plt.yticks(width, ticks, size = 12)\n",
    "    plt.title(\"Mutual Information Scores\")"
   ]
  },
  {
   "cell_type": "code",
   "execution_count": 21,
   "id": "99295af4",
   "metadata": {},
   "outputs": [
    {
     "data": {
      "image/png": "[encoded data removed]",
      "text/plain": [
       "<Figure size 720x432 with 1 Axes>"
      ]
     },
     "metadata": {
      "needs_background": "light"
     },
     "output_type": "display_data"
    }
   ],
   "source": [
    "# Calcola e grafica i valori di MI.\n",
    "mi_scores = compute_mi_scores(X_train, y_train)\n",
    "plot_mi_scores(mi_scores)"
   ]
  },
  {
   "cell_type": "markdown",
   "id": "fddb757b",
   "metadata": {},
   "source": [
    "Dall'analisi, risulta esserci una feature in particolare che non ha particamente quasi alcuna influenza sull'output: `HasCrCard`.   \n",
    "Grafichiamone la relazione con la variabile target."
   ]
  },
  {
   "cell_type": "code",
   "execution_count": 22,
   "id": "391dda1f",
   "metadata": {},
   "outputs": [
    {
     "data": {
      "image/png": "[encoded data removed]",
      "text/plain": [
       "<Figure size 1440x432 with 1 Axes>"
      ]
     },
     "metadata": {
      "needs_background": "light"
     },
     "output_type": "display_data"
    }
   ],
   "source": [
    "plot_grid(\n",
    "    features = X_train[['HasCrCard']],\n",
    "    target = y_train,\n",
    "    plot_func = sns.countplot,\n",
    "    max_plots_per_row = 3,\n",
    "    figsize = (20, 6)\n",
    ")"
   ]
  },
  {
   "cell_type": "markdown",
   "id": "2efadff0",
   "metadata": {},
   "source": [
    "Effettivamente, osservando il grafico, non sembra che questa feature influisca molto sul valore della variabile `Exited` (i rapporti di altezza tra barre blu e arancioni sono grosso modo gli stessi per entrambi i valori della feature).   \n",
    "Decido quindi di semplificare il dataset eliminandola."
   ]
  },
  {
   "cell_type": "code",
   "execution_count": 23,
   "id": "dd0c16a6",
   "metadata": {},
   "outputs": [],
   "source": [
    "X_train.drop(['HasCrCard'], axis = 1, inplace = True)\n",
    "X_test.drop(['HasCrCard'], axis = 1, inplace = True)"
   ]
  },
  {
   "cell_type": "markdown",
   "id": "20c4214a",
   "metadata": {},
   "source": [
    "Valutiamo ora le prestazioni del nuovo modello."
   ]
  },
  {
   "cell_type": "code",
   "execution_count": 24,
   "id": "b069b575",
   "metadata": {},
   "outputs": [
    {
     "data": {
      "text/plain": [
       "0.8546875"
      ]
     },
     "execution_count": 24,
     "metadata": {},
     "output_type": "execute_result"
    }
   ],
   "source": [
    "score_model(X_train, y_train)"
   ]
  },
  {
   "cell_type": "markdown",
   "id": "0e34212b",
   "metadata": {},
   "source": [
    "L'accuracy è calata di un valore insignificante!"
   ]
  },
  {
   "cell_type": "markdown",
   "id": "6244e3b2",
   "metadata": {},
   "source": [
    "A questo punto, proseguo con la visualizzazione della relazione tra la variabile target e le prime due feature che hanno ottenuto il punteggio di MI più alto."
   ]
  },
  {
   "cell_type": "code",
   "execution_count": 25,
   "id": "c3312beb",
   "metadata": {},
   "outputs": [
    {
     "data": {
      "image/png": "[encoded data removed]",
      "text/plain": [
       "<Figure size 1440x576 with 2 Axes>"
      ]
     },
     "metadata": {
      "needs_background": "light"
     },
     "output_type": "display_data"
    }
   ],
   "source": [
    "plot_grid(\n",
    "    features = X_train[['Age', 'NumOfProducts']],\n",
    "    target = y_train,\n",
    "    plot_func = sns.histplot,\n",
    "    max_plots_per_row = 2,\n",
    "    figsize = (20, 8)\n",
    ")"
   ]
  },
  {
   "cell_type": "markdown",
   "id": "be9485f8",
   "metadata": {},
   "source": [
    "Questa volta possiamo osservare come invece queste due feature abbiano una maggiore influenza sulla variabile target.   \n",
    "Possiamo osservare in particolare che i clienti più propensi a cambiare banca sono concentrati più che altro nella fascia d'età 45-65 (e soprattutto 50-60). I clienti più giovani sono invece quelli meno propensi a cambiare.   \n",
    "Anche il numero di prodotti finanziari utilizzati fa la differenza: i clienti che ne usano 2 sono quelli più fedeli alla propria banca, quelli che ne usano 1 solo tendono a cambiare banca un po' di più e quelli che ne usano 3 o 4 sono molto più propensi a cambiare.\n",
    "\n",
    "Grafichiamo ora la relazione tra la feature `CreditScore` (terza classificata nella classifica dei punteggi di MI) e la variabile target."
   ]
  },
  {
   "cell_type": "code",
   "execution_count": 26,
   "id": "58c3aced",
   "metadata": {},
   "outputs": [
    {
     "data": {
      "image/png": "[encoded data removed]",
      "text/plain": [
       "<Figure size 1440x576 with 1 Axes>"
      ]
     },
     "metadata": {
      "needs_background": "light"
     },
     "output_type": "display_data"
    }
   ],
   "source": [
    "plot_grid(\n",
    "    features = X_train[['CreditScore']],\n",
    "    target = y_train,\n",
    "    plot_func = sns.histplot,\n",
    "    max_plots_per_row = 2,\n",
    "    figsize = (20, 8)\n",
    ")"
   ]
  },
  {
   "cell_type": "markdown",
   "id": "8db33d17",
   "metadata": {},
   "source": [
    "Nonostante il punteggio di MI ottenuto, osservando il grafico non sembra che questa feature sia poi così tanto significativa nella distinzione tra clienti che lasciano la banca e clienti che rimangono.   \n",
    "L'unica parte interessante del grafico è quella più a sinistra, in cui si hanno più clienti che cambiano banca che non il contrario. Tutto il resto del grafico sembra però fornire ben poche informazioni utili: gli istogrammi dei clienti che rimangono fedeli alla propria banca e di quelli che invece la abbandonano seguono grosso modo un andamento piuttosto simile.\n",
    "\n",
    "Decido quindi di provare ad eliminare anche questa feature."
   ]
  },
  {
   "cell_type": "code",
   "execution_count": 27,
   "id": "4d0f002c",
   "metadata": {},
   "outputs": [],
   "source": [
    "X_train.drop('CreditScore', axis = 1, inplace = True)\n",
    "X_test.drop('CreditScore', axis = 1, inplace = True)"
   ]
  },
  {
   "cell_type": "markdown",
   "id": "cb177c6d",
   "metadata": {},
   "source": [
    "Valutiamo ora nuovamente le prestazioni del modello."
   ]
  },
  {
   "cell_type": "code",
   "execution_count": 28,
   "id": "191b2d71",
   "metadata": {
    "scrolled": true
   },
   "outputs": [
    {
     "data": {
      "text/plain": [
       "0.85453125"
      ]
     },
     "execution_count": 28,
     "metadata": {},
     "output_type": "execute_result"
    }
   ],
   "source": [
    "score_model(X_train, y_train)"
   ]
  },
  {
   "cell_type": "markdown",
   "id": "389e1685",
   "metadata": {},
   "source": [
    "Le prestazioni non sono sostanzialmente cambiate, il che ci da' una conferma che anche quest'altra feature eliminata non era poi così utile ai fini del funzionamento del nostro modello."
   ]
  },
  {
   "cell_type": "markdown",
   "id": "4840a684",
   "metadata": {},
   "source": [
    "Analizziamo ora la relazione tra la variabile target e la feature categorica che ha ottenuto il punteggio di MI più alto: `Geography`."
   ]
  },
  {
   "cell_type": "code",
   "execution_count": 29,
   "id": "0bcf5f68",
   "metadata": {},
   "outputs": [
    {
     "data": {
      "image/png": "[encoded data removed]",
      "text/plain": [
       "<Figure size 1440x432 with 1 Axes>"
      ]
     },
     "metadata": {
      "needs_background": "light"
     },
     "output_type": "display_data"
    }
   ],
   "source": [
    "plot_grid(\n",
    "    features = X_train[['Geography']],\n",
    "    target = y_train,\n",
    "    plot_func = sns.countplot,\n",
    "    max_plots_per_row = 2,\n",
    "    figsize = (20, 6)\n",
    ")"
   ]
  },
  {
   "cell_type": "markdown",
   "id": "0ba2ac7a",
   "metadata": {},
   "source": [
    "Possiamo per prima cosa notare come la stragrande maggioranza dei clienti campionati siano francesi.   \n",
    "Si osserva facilmente che i clienti tedeschi sono molto più propensi a cambiare banca rispetto agli altri.\n",
    "\n",
    "Analizziamo ora come le altre due feature categoriche rimaste, che hanno valori di MI più bassi, si relazionano con la variabile `Exited`."
   ]
  },
  {
   "cell_type": "code",
   "execution_count": 30,
   "id": "42ae0a3c",
   "metadata": {},
   "outputs": [
    {
     "data": {
      "image/png": "[encoded data removed]",
      "text/plain": [
       "<Figure size 1440x432 with 2 Axes>"
      ]
     },
     "metadata": {
      "needs_background": "light"
     },
     "output_type": "display_data"
    }
   ],
   "source": [
    "plot_grid(\n",
    "    features = X_train[['IsActiveMember', 'Gender']],\n",
    "    target = y_train,\n",
    "    plot_func = sns.countplot,\n",
    "    max_plots_per_row = 2,\n",
    "    figsize = (20, 6)\n",
    ")"
   ]
  },
  {
   "cell_type": "markdown",
   "id": "d412bc28",
   "metadata": {},
   "source": [
    "Osserviamo come i clienti che NON hanno un conto attivo sono quelli più propensi a cambiare banca (forse il fatto che non si abbia un conto attivo facilita il cambio di banca?), così come le donne (anche se in questo caso la differenza è meno evidente).\n",
    "\n",
    "Analizziamo ora le feature numeriche `Balance` ed `EstimatedSalary`."
   ]
  },
  {
   "cell_type": "code",
   "execution_count": 31,
   "id": "8b6789c0",
   "metadata": {},
   "outputs": [
    {
     "data": {
      "image/png": "[encoded data removed]",
      "text/plain": [
       "<Figure size 1440x576 with 2 Axes>"
      ]
     },
     "metadata": {
      "needs_background": "light"
     },
     "output_type": "display_data"
    }
   ],
   "source": [
    "plot_grid(\n",
    "    features = X_train[['Balance', 'EstimatedSalary']],\n",
    "    target = y_train,\n",
    "    plot_func = sns.kdeplot,\n",
    "    plot_args = {'shade': True},\n",
    "    max_plots_per_row = 2,\n",
    "    figsize = (20, 8)\n",
    ")"
   ]
  },
  {
   "cell_type": "markdown",
   "id": "fdfe3da5",
   "metadata": {},
   "source": [
    "Possiamo osservare come più l'ammontare del conto in banca di un cliente è vicino allo 0, più questo tende ad essere fedele alla propria banca. La curva della distribuzione della feature `Balance` ha due picchi: uno in corrispondenza dello 0 e uno in corrispondenza di un valore intorno ai 120000€: la differenza tra clienti che lasciano e clienti che rimangono è molto più marcata per il primo picco.\n",
    "Più ci si avvicina ai punti di picco, più la differenza tra le due curve blue e arancione tende a crescere,  mentre tende a diminuire mano a mano che si affievoliscono.     \n",
    "Osserviamo come invece la feature `EstimatedSalary` non sembri avere una relazione così forte con la variabile target, il che non dovrebbe sorprenderci visto che non aveva ottenuto un alto valore di MI."
   ]
  },
  {
   "cell_type": "markdown",
   "id": "9ffc34bb",
   "metadata": {},
   "source": [
    "A questo punto manca solo la feature `Tenure`, che a giudicare dal punteggio di MI sembra non avere un grosso impatto sulla scelta del cliente.\n",
    "Vediamo come tale feature si relaziona con la variabile target."
   ]
  },
  {
   "cell_type": "code",
   "execution_count": 32,
   "id": "cc22c074",
   "metadata": {},
   "outputs": [
    {
     "data": {
      "image/png": "[encoded data removed]",
      "text/plain": [
       "<Figure size 1440x432 with 1 Axes>"
      ]
     },
     "metadata": {
      "needs_background": "light"
     },
     "output_type": "display_data"
    }
   ],
   "source": [
    "plot_grid(\n",
    "    features = X_train[['Tenure']],\n",
    "    target = y_train,\n",
    "    plot_func = sns.histplot,\n",
    "    max_plots_per_row = 3,\n",
    "    figsize = (20, 6)\n",
    ")"
   ]
  },
  {
   "cell_type": "markdown",
   "id": "a07d7474",
   "metadata": {},
   "source": [
    "Osservando questo grafico, sembra che dalla conoscenza della variabile `Tenure` non si riesca a ricavare molta informazione sulla variabile `Exited`.   \n",
    "Provo quindi ad eliminare anche questa feature."
   ]
  },
  {
   "cell_type": "code",
   "execution_count": 33,
   "id": "b6966db5",
   "metadata": {},
   "outputs": [],
   "source": [
    "X_train.drop(['Tenure'], axis = 1, inplace = True)\n",
    "X_test.drop(['Tenure'], axis = 1, inplace = True)"
   ]
  },
  {
   "cell_type": "markdown",
   "id": "8824b8a7",
   "metadata": {},
   "source": [
    "Valutiamo nuovamente il nostro modello."
   ]
  },
  {
   "cell_type": "code",
   "execution_count": 34,
   "id": "adedf128",
   "metadata": {},
   "outputs": [
    {
     "data": {
      "text/plain": [
       "0.8456250000000001"
      ]
     },
     "execution_count": 34,
     "metadata": {},
     "output_type": "execute_result"
    }
   ],
   "source": [
    "score_model(X_train, y_train)"
   ]
  },
  {
   "cell_type": "markdown",
   "id": "9282efa7",
   "metadata": {},
   "source": [
    "Le prestazioni stavolta sono calate un pochino di più, anche se comunque meno di 1 punto percentuale.   \n",
    "Non lo considererei un calo così significativo, quindi sembra effettivamente che il valore della feature `Tenure` non sia importante per capire se un cliente ha lasciato o meno la sua banca."
   ]
  },
  {
   "cell_type": "markdown",
   "id": "0d4897d2",
   "metadata": {},
   "source": [
    "A questo punto, può essere utile provare a creare nuove feature che possano essere più informative di quelle che abbiamo ora.   \n",
    "Una tipologia di feature \"artificiali\" che in generale possono aiutare i modelli a migliorare le loro performance predittive sono i rapporti tra altre feature.   \n",
    "Come osservato in precedenza, la feature `EstimatedSalary` non è molto informativa rispetto a quelle che hanno ottenuto valori di MI più alti. Mi chiedo se un rapporto tra la feature `Balance` e la feature `EstimatedSalary` non possa essere più utile della feature `EstimatedSalary` stessa: provo a creare una nuova feature `BalanceSalaryRatio`, che consiste nel rapporto tra l'ammontare del conto in banca di un utente e le sue entrate stimate, e ad eliminare la \"vecchia\" feature `EstimatedSalary`."
   ]
  },
  {
   "cell_type": "code",
   "execution_count": 35,
   "id": "88281b96",
   "metadata": {},
   "outputs": [],
   "source": [
    "def addBalanceSalaryRatio(data):\n",
    "    data = data.copy()\n",
    "    data['BalanceSalaryRatio'] = data['Balance'] / data['EstimatedSalary']\n",
    "    data.drop(['EstimatedSalary'], axis = 1, inplace = True)\n",
    "    return data\n",
    "\n",
    "X_train = addBalanceSalaryRatio(X_train)\n",
    "X_test  = addBalanceSalaryRatio(X_test)"
   ]
  },
  {
   "cell_type": "markdown",
   "id": "4e69cdbb",
   "metadata": {},
   "source": [
    "Vediamo come si presenta questa nuova feature, osservando le prime 3 righe del dataset."
   ]
  },
  {
   "cell_type": "code",
   "execution_count": 36,
   "id": "07f440e2",
   "metadata": {},
   "outputs": [
    {
     "data": {
      "text/html": [
       "<div>\n",
       "<style scoped>\n",
       "    .dataframe tbody tr th:only-of-type {\n",
       "        vertical-align: middle;\n",
       "    }\n",
       "\n",
       "    .dataframe tbody tr th {\n",
       "        vertical-align: top;\n",
       "    }\n",
       "\n",
       "    .dataframe thead th {\n",
       "        text-align: right;\n",
       "    }\n",
       "</style>\n",
       "<table border=\"1\" class=\"dataframe\">\n",
       "  <thead>\n",
       "    <tr style=\"text-align: right;\">\n",
       "      <th></th>\n",
       "      <th>Geography</th>\n",
       "      <th>Gender</th>\n",
       "      <th>Age</th>\n",
       "      <th>Balance</th>\n",
       "      <th>NumOfProducts</th>\n",
       "      <th>IsActiveMember</th>\n",
       "      <th>BalanceSalaryRatio</th>\n",
       "    </tr>\n",
       "  </thead>\n",
       "  <tbody>\n",
       "    <tr>\n",
       "      <th>0</th>\n",
       "      <td>Germany</td>\n",
       "      <td>Female</td>\n",
       "      <td>34</td>\n",
       "      <td>160426.07</td>\n",
       "      <td>1</td>\n",
       "      <td>Yes</td>\n",
       "      <td>0.850917</td>\n",
       "    </tr>\n",
       "    <tr>\n",
       "      <th>1</th>\n",
       "      <td>Spain</td>\n",
       "      <td>Female</td>\n",
       "      <td>46</td>\n",
       "      <td>137933.39</td>\n",
       "      <td>1</td>\n",
       "      <td>Yes</td>\n",
       "      <td>2.029131</td>\n",
       "    </tr>\n",
       "    <tr>\n",
       "      <th>2</th>\n",
       "      <td>Germany</td>\n",
       "      <td>Male</td>\n",
       "      <td>37</td>\n",
       "      <td>118050.79</td>\n",
       "      <td>1</td>\n",
       "      <td>Yes</td>\n",
       "      <td>2.257136</td>\n",
       "    </tr>\n",
       "  </tbody>\n",
       "</table>\n",
       "</div>"
      ],
      "text/plain": [
       "  Geography  Gender  Age    Balance  NumOfProducts IsActiveMember  \\\n",
       "0   Germany  Female   34  160426.07              1            Yes   \n",
       "1     Spain  Female   46  137933.39              1            Yes   \n",
       "2   Germany    Male   37  118050.79              1            Yes   \n",
       "\n",
       "   BalanceSalaryRatio  \n",
       "0            0.850917  \n",
       "1            2.029131  \n",
       "2            2.257136  "
      ]
     },
     "execution_count": 36,
     "metadata": {},
     "output_type": "execute_result"
    }
   ],
   "source": [
    "X_train.head(3)"
   ]
  },
  {
   "cell_type": "markdown",
   "id": "e0257a12",
   "metadata": {},
   "source": [
    "Grafichiamo ora la distribuzione della nuova feature."
   ]
  },
  {
   "cell_type": "code",
   "execution_count": 37,
   "id": "62940141",
   "metadata": {},
   "outputs": [
    {
     "data": {
      "text/plain": [
       "<AxesSubplot:xlabel='BalanceSalaryRatio', ylabel='Density'>"
      ]
     },
     "execution_count": 37,
     "metadata": {},
     "output_type": "execute_result"
    },
    {
     "data": {
      "image/png": "[encoded data removed]",
      "text/plain": [
       "<Figure size 1440x576 with 1 Axes>"
      ]
     },
     "metadata": {
      "needs_background": "light"
     },
     "output_type": "display_data"
    }
   ],
   "source": [
    "plt.figure(figsize = (20, 8))\n",
    "sns.kdeplot(X_train['BalanceSalaryRatio'], shade = True)"
   ]
  },
  {
   "cell_type": "markdown",
   "id": "b7e7aaa3",
   "metadata": {},
   "source": [
    "Come possiamo vedere, tale distribuzione è troppo \"schiacciata\".   \n",
    "Decido quindi di applicare alla feature una trasformazione logaritmica, nel tentativo di normalizzarne la distribuzione."
   ]
  },
  {
   "cell_type": "code",
   "execution_count": 38,
   "id": "301f7215",
   "metadata": {},
   "outputs": [],
   "source": [
    "X_train['BalanceSalaryRatio'] = X_train['BalanceSalaryRatio'].apply(np.log1p)"
   ]
  },
  {
   "cell_type": "markdown",
   "id": "ac64fb4e",
   "metadata": {},
   "source": [
    "Grafichiamo ora la relazione tra la nuova feature e la variabile target."
   ]
  },
  {
   "cell_type": "code",
   "execution_count": 39,
   "id": "090dc17e",
   "metadata": {},
   "outputs": [
    {
     "data": {
      "image/png": "[encoded data removed]",
      "text/plain": [
       "<Figure size 1440x576 with 1 Axes>"
      ]
     },
     "metadata": {
      "needs_background": "light"
     },
     "output_type": "display_data"
    }
   ],
   "source": [
    "plot_grid(\n",
    "    features = X_train[['BalanceSalaryRatio']],\n",
    "    target = y_train,\n",
    "    plot_func = sns.kdeplot,\n",
    "    plot_args = {'shade': True},\n",
    "    max_plots_per_row = 3,\n",
    "    figsize = (20, 8)\n",
    ")"
   ]
  },
  {
   "cell_type": "markdown",
   "id": "bed347d1",
   "metadata": {},
   "source": [
    "Come per la vecchia feature `EstimatedSalary`, anche stavolta abbiamo due picchi principali presso i quali i clienti che vogliono rimanere fedeli alla propria banca tendono ad essere di più di quelli che vogliono lasciarla. Nelle zone in cui le curve si appiattiscono questa differenza diventa invece sempre meno marcata, tanto che sia nella parte estrema sinistra che in quella estrema destra del grafico risultano essere più coloro che abbandonano la propria banca che non gli altri.\n",
    "\n",
    "Valutiamo ora il nuovo modello."
   ]
  },
  {
   "cell_type": "code",
   "execution_count": 40,
   "id": "4e32e9ef",
   "metadata": {},
   "outputs": [
    {
     "data": {
      "text/plain": [
       "0.8496875000000002"
      ]
     },
     "execution_count": 40,
     "metadata": {},
     "output_type": "execute_result"
    }
   ],
   "source": [
    "score_model(X_train, y_train)"
   ]
  },
  {
   "cell_type": "markdown",
   "id": "65653a0a",
   "metadata": {},
   "source": [
    "Sembra che le prestazioni siano leggermente migliorate di circa mezzo punto percentuale: decisamente nulla di eccezionale, ma la nuova feature mi sembra comunque essere un pochino più informativa della precedente."
   ]
  },
  {
   "cell_type": "markdown",
   "id": "9f600652",
   "metadata": {},
   "source": [
    "## Oversampling\n",
    "\n",
    "Come già visto all'inizio del notebook, il nostro dataset è molto sbilanciato: ci sono molti più esempi negativi che positivi.   \n",
    "Questo ha chiaramente un impatto negativo sulle performance del mdello, che potrebbe non essere in grado di individuare i giusti pattern nei dati. In particolare, il rischio è che il modello non impari a classificare correttamente gli esempi positivi.\n",
    "\n",
    "Per risolvere questo problema, utilizzerò la tecnica *SMOTE* per sovradimensionare il nostro train set, in modo che il numero di esempi negativi e positivi sia uguale. Questo approccio costruisce artificialmente dei nuovi esempi positivi a partire da quelli già esistenti. A grandi linee, questa tecnica seleziona di volta in volta coppie di punti positivi (cioè della classe in minoranza, in generale) e crea un nuovo esempio positivo \"artificiale\" come il punto medio del segmento che li congiunge nello spazio delle feature.\n",
    "\n",
    "Poiché questo algoritmo lavora con sole feature numeriche, per prima cosa codificherò il train set, transformandone le colonne categoriche in numeriche."
   ]
  },
  {
   "cell_type": "code",
   "execution_count": 41,
   "id": "4caa4ea1",
   "metadata": {},
   "outputs": [],
   "source": [
    "X_train_enc, y_train_enc = encode(X_train, y_train)"
   ]
  },
  {
   "cell_type": "code",
   "execution_count": 42,
   "id": "124e28f4",
   "metadata": {},
   "outputs": [],
   "source": [
    "# Oggetto che implementa la tecnica SMOTE per bilanciare gli esempi positivi e negativi nel dataset.\n",
    "smote = SMOTE(sampling_strategy = 'minority', random_state = 13)\n",
    "X_train_enc, y_train_enc = smote.fit_resample(X_train_enc, y_train_enc)\n",
    "\n",
    "# Reimposto il nome della Series per la variabile target, in quanto la SMOTE l'ha cancellato.\n",
    "y_train_enc.name = 'Exited'"
   ]
  },
  {
   "cell_type": "markdown",
   "id": "1ca76374",
   "metadata": {},
   "source": [
    "Vediamo come si ripartiscono adesso i valori nelle due classi target."
   ]
  },
  {
   "cell_type": "code",
   "execution_count": 43,
   "id": "496a8e9f",
   "metadata": {},
   "outputs": [
    {
     "name": "stdout",
     "output_type": "stream",
     "text": [
      "0    5082\n",
      "1    5082\n",
      "Name: Exited, dtype: int64\n"
     ]
    },
    {
     "data": {
      "image/png": "[encoded data removed]",
      "text/plain": [
       "<Figure size 360x360 with 1 Axes>"
      ]
     },
     "metadata": {},
     "output_type": "display_data"
    }
   ],
   "source": [
    "plot_target_distribution(y_train_enc)"
   ]
  },
  {
   "cell_type": "markdown",
   "id": "5a909520",
   "metadata": {},
   "source": [
    "Come ci aspettavamo, il dataset è ora bilanciato!\n",
    "\n",
    "Calcoliamoci ora lo score per il nuovo dataset."
   ]
  },
  {
   "cell_type": "code",
   "execution_count": 44,
   "id": "d8b5ffcc",
   "metadata": {},
   "outputs": [
    {
     "data": {
      "text/plain": [
       "0.8668868686360099"
      ]
     },
     "execution_count": 44,
     "metadata": {},
     "output_type": "execute_result"
    }
   ],
   "source": [
    "score_model(X_train_enc, y_train_enc, mustEncode = False)"
   ]
  },
  {
   "cell_type": "markdown",
   "id": "1fef2d54",
   "metadata": {},
   "source": [
    "Come possiamo vedere, lo score è aumentato di oltre 1 punto e mezzo percentuale: non è molto, ma lo *SMOTE* sembra comunque essersi rivelato utile."
   ]
  },
  {
   "cell_type": "markdown",
   "id": "940d2a96",
   "metadata": {},
   "source": [
    "## Addestramento e Valutazione\n",
    "Arrivati a questo punto, addestrerò il modello sul train set corrente e lo valuterò sul test set."
   ]
  },
  {
   "cell_type": "code",
   "execution_count": 45,
   "id": "fc13b5f9",
   "metadata": {},
   "outputs": [],
   "source": [
    "# Lista delle colonne numeriche.\n",
    "num_cols = list(X_train.select_dtypes(exclude = ['category']).columns)\n",
    "\n",
    "# Costruisci il preprocessore dei dati.\n",
    "preprocessor = make_preprocessor(num_cols)\n",
    "\n",
    "# Costruisci il classificatore.\n",
    "classifier = RandomForestClassifier(random_state = 13)\n",
    "\n",
    "# Costruisci l'intera pipeline.\n",
    "model = Pipeline(\n",
    "    steps = [\n",
    "        ('preprocessor', preprocessor),\n",
    "        ('classifier', classifier)\n",
    "    ]\n",
    ")"
   ]
  },
  {
   "cell_type": "markdown",
   "id": "b2107f23",
   "metadata": {},
   "source": [
    "Per effettuare il tuning degli iperparametri del modello mi affiderò alla classe `GridSearchCV` di scikit-learn. Le istanze di questa classe ricevono come parametri un modello e una griglia di potenziali valori per i suoi iper-parametri: l'oggetto `GridSearchCV` cerca quindi di determinare quali sono i valori (tra quelli nella griglia) degli iper-parametri che massimizzano una determinata funzione di score (e.g. accuracy) calcolata addestrando e valutando il modello tramite Cross-Validation.\n",
    "\n",
    "Per prima cosa, costruisco la griglia degli iper-parametri."
   ]
  },
  {
   "cell_type": "code",
   "execution_count": 46,
   "id": "55bc4fb1",
   "metadata": {},
   "outputs": [],
   "source": [
    "param_grid = { \n",
    "    'classifier__n_estimators': [100, 125, 150, 175, 200],\n",
    "    'classifier__max_depth': [5, 6, None],\n",
    "}"
   ]
  },
  {
   "cell_type": "markdown",
   "id": "c25882d6",
   "metadata": {},
   "source": [
    "A questo punto, creo un'istanza di `GridSearchCV`."
   ]
  },
  {
   "cell_type": "code",
   "execution_count": 47,
   "id": "e12cb3c5",
   "metadata": {},
   "outputs": [],
   "source": [
    "search = GridSearchCV(\n",
    "    model, param_grid, cv = 5, scoring = 'accuracy'\n",
    ")"
   ]
  },
  {
   "cell_type": "markdown",
   "id": "470b7b02",
   "metadata": {},
   "source": [
    "A questo punto addestro l'oggetto `GridSearchCV`, che addestrerà il modello cercando anche i migliori iper-parametri.    \n",
    "L'esecuzione del seguente blocco di codice potrebbe richiedere diverso tempo a causa della ricerca esaustiva dei migliori iper-parametri (sul mio PC ha impiegato qualche minuto di tempo)."
   ]
  },
  {
   "cell_type": "code",
   "execution_count": 48,
   "id": "c5d6cc1f",
   "metadata": {},
   "outputs": [
    {
     "data": {
      "text/plain": [
       "GridSearchCV(cv=5,\n",
       "             estimator=Pipeline(steps=[('preprocessor',\n",
       "                                        ColumnTransformer(remainder='passthrough',\n",
       "                                                          transformers=[('scaler',\n",
       "                                                                         StandardScaler(),\n",
       "                                                                         ['Age',\n",
       "                                                                          'Balance',\n",
       "                                                                          'NumOfProducts',\n",
       "                                                                          'BalanceSalaryRatio'])])),\n",
       "                                       ('classifier',\n",
       "                                        RandomForestClassifier(random_state=13))]),\n",
       "             param_grid={'classifier__max_depth': [5, 6, None],\n",
       "                         'classifier__n_estimators': [100, 125, 150, 175, 200]},\n",
       "             scoring='accuracy')"
      ]
     },
     "execution_count": 48,
     "metadata": {},
     "output_type": "execute_result"
    }
   ],
   "source": [
    "search.fit(X_train_enc, y_train_enc)"
   ]
  },
  {
   "cell_type": "markdown",
   "id": "99e5c13c",
   "metadata": {},
   "source": [
    "Vediamo quali sono i migliori iper-parametri trovati."
   ]
  },
  {
   "cell_type": "code",
   "execution_count": 49,
   "id": "d5bc9e40",
   "metadata": {},
   "outputs": [
    {
     "data": {
      "text/plain": [
       "{'classifier__max_depth': None, 'classifier__n_estimators': 175}"
      ]
     },
     "execution_count": 49,
     "metadata": {},
     "output_type": "execute_result"
    }
   ],
   "source": [
    "search.best_params_"
   ]
  },
  {
   "cell_type": "markdown",
   "id": "9e98fc80",
   "metadata": {},
   "source": [
    "Recuperiamo il miglior classificatore trovato dalla grid search."
   ]
  },
  {
   "cell_type": "code",
   "execution_count": 50,
   "id": "dac35248",
   "metadata": {},
   "outputs": [],
   "source": [
    "model = search.best_estimator_"
   ]
  },
  {
   "cell_type": "markdown",
   "id": "8b5d6461",
   "metadata": {},
   "source": [
    "Valutiamo l'accuratezza del modello sul training set."
   ]
  },
  {
   "cell_type": "code",
   "execution_count": 51,
   "id": "c8b500fd",
   "metadata": {},
   "outputs": [
    {
     "data": {
      "text/plain": [
       "0.9758953168044077"
      ]
     },
     "execution_count": 51,
     "metadata": {},
     "output_type": "execute_result"
    }
   ],
   "source": [
    "model.score(X_train_enc, y_train_enc)"
   ]
  },
  {
   "cell_type": "markdown",
   "id": "4720f957",
   "metadata": {},
   "source": [
    "Valutiamo ora l'accuratezza del modello sul test set."
   ]
  },
  {
   "cell_type": "code",
   "execution_count": 52,
   "id": "bc054155",
   "metadata": {},
   "outputs": [
    {
     "data": {
      "text/plain": [
       "0.830625"
      ]
     },
     "execution_count": 52,
     "metadata": {},
     "output_type": "execute_result"
    }
   ],
   "source": [
    "X_test_enc, y_test_enc = encode(X_test, y_test)\n",
    "model.score(X_test_enc, y_test_enc)"
   ]
  },
  {
   "cell_type": "markdown",
   "id": "a63ca95b",
   "metadata": {},
   "source": [
    "L'accuratezza sul test set si aggira intorno all'83% (il modello sbaglia meno di 1 volta su 5, in media).\n",
    "Niente di eccezionale, ma almeno come primo prototipo mi sembra accettabile.\n",
    "\n",
    "Essendo il dataset sbilanciato, però, la sola accuracy non è una buona metrica di performance.\n",
    "Per analizzare meglio le prestazioni del modello sul test set, mostro qua sotto la matrice di confusione."
   ]
  },
  {
   "cell_type": "code",
   "execution_count": 53,
   "id": "781f9ece",
   "metadata": {},
   "outputs": [
    {
     "data": {
      "text/plain": [
       "Text(0.5, 15.0, 'Predicted Churn')"
      ]
     },
     "execution_count": 53,
     "metadata": {},
     "output_type": "execute_result"
    },
    {
     "data": {
      "image/png": "[encoded data removed]",
      "text/plain": [
       "<Figure size 432x288 with 2 Axes>"
      ]
     },
     "metadata": {
      "needs_background": "light"
     },
     "output_type": "display_data"
    }
   ],
   "source": [
    "y_test_pred = model.predict(X_test_enc)\n",
    "\n",
    "conf_matrix = confusion_matrix(y_test_enc, y_test_pred)\n",
    "sns.heatmap(pd.DataFrame(conf_matrix), annot = True, cmap = 'Blues', fmt = 'g')\n",
    "plt.title('Confusion Matrix', y = 1.1)\n",
    "plt.ylabel('Actual Churn')\n",
    "plt.xlabel('Predicted Churn')"
   ]
  },
  {
   "cell_type": "markdown",
   "id": "cefe3d42",
   "metadata": {},
   "source": [
    "Abbiamo 117 falsi negativi e 154 falsi positivi. Il modello sembra commettere in proporzione più errori sui positivi che non sui negativi, nonostante l'applicazione della tecnica *SMOTE* abbia bilanciato il dataset (anche se chiaramente non con esempi reali, bensì artificiali).\n",
    "\n",
    "Per avere più informazioni, qui sotto mostro un report più completo sulle prestazioni del modello sul test set."
   ]
  },
  {
   "cell_type": "code",
   "execution_count": 54,
   "id": "fc7f1b3b",
   "metadata": {},
   "outputs": [
    {
     "name": "stdout",
     "output_type": "stream",
     "text": [
      "              precision    recall  f1-score   support\n",
      "\n",
      "           0       0.91      0.88      0.89      1274\n",
      "           1       0.58      0.64      0.61       326\n",
      "\n",
      "    accuracy                           0.83      1600\n",
      "   macro avg       0.74      0.76      0.75      1600\n",
      "weighted avg       0.84      0.83      0.83      1600\n",
      "\n"
     ]
    }
   ],
   "source": [
    "print(classification_report(y_test_enc, y_test_pred))"
   ]
  },
  {
   "cell_type": "markdown",
   "id": "fa61f7cf",
   "metadata": {},
   "source": [
    "Grazie all'applicazione della tecnica *SMOTE*, nonostante il dataset di partenza fosse sbilanciato il nostro modello non sbaglia eccessivamente nella classificazione dei positivi (anche se commette comunque diversi errori): se non avessimo applicato questa tecnica, magari avremmo avuto meno errori sugli esempi negativi (e magari anche un'accuracy di 2/3 punti percentuali più alta), ma avremmo commesso molti più errori sugli esempi positivi.\n",
    "Bisogna infatti considerare che in un contesto come questo i falsi negativi sono molto più pericolosi dei falsi positivi: ad una banca costa probabilmente molto meno venire incontro ad un cliente che in realtà alla fine non se ne andrà (falso positivo) che non lasciarsi sfuggire un cliente perché credeva che intendesse rimanere (falso negativo).\n",
    "\n",
    "Può essere interessante a questo punto analizzare i valori di importanza relativa delle varie feature, secondo quanto appreso dal modello."
   ]
  },
  {
   "cell_type": "code",
   "execution_count": 55,
   "id": "9646fc8a",
   "metadata": {},
   "outputs": [
    {
     "data": {
      "text/plain": [
       "array([0.27362694, 0.15671839, 0.12941222, 0.14598996, 0.05422464,\n",
       "       0.10607786, 0.05849619, 0.03170064, 0.04375315])"
      ]
     },
     "execution_count": 55,
     "metadata": {},
     "output_type": "execute_result"
    }
   ],
   "source": [
    "feature_importances = model.named_steps['classifier'].feature_importances_\n",
    "feature_importances"
   ]
  },
  {
   "cell_type": "markdown",
   "id": "a7b3611d",
   "metadata": {},
   "source": [
    "Visualizziamo ora tali valori con un grafico a barre."
   ]
  },
  {
   "cell_type": "code",
   "execution_count": 56,
   "id": "ed99c22f",
   "metadata": {},
   "outputs": [
    {
     "data": {
      "image/png": "[encoded data removed]",
      "text/plain": [
       "<Figure size 1200x800 with 1 Axes>"
      ]
     },
     "metadata": {
      "needs_background": "light"
     },
     "output_type": "display_data"
    }
   ],
   "source": [
    "# Funzione che restituisce la lista delle feature in modo che il loro ordinamento sia coerente con quello\n",
    "# dei corrispondenti valori di importanza relativa.\n",
    "# Questo è necessario perché l'ordine delle feature cambia quando il dataset passa attraverso il preprocessore\n",
    "# dei dati: le feature numeriche vengono infatti messe in testa e tutte le altre in coda (l'ordine delle\n",
    "# feature numeriche e categoriche rimane comunque lo stesso).\n",
    "def get_feature_names():\n",
    "    return num_cols + [x for x in list(X_test_enc.columns) if x not in num_cols]\n",
    "\n",
    "\n",
    "# Funzione per visualizzare i valori di importanza relativa delle feature, con un grafico a barre.\n",
    "def plot_feature_importances(feature_importances):\n",
    "    plt.figure(figsize = (15, 10), dpi = 80)\n",
    "    plt.barh(get_feature_names(), feature_importances, align = 'center')\n",
    "    plt.xlabel('Feature Importance', size = 16)\n",
    "    plt.ylabel('Feature', size = 16)\n",
    "    plt.show()\n",
    "\n",
    "plot_feature_importances(feature_importances)"
   ]
  },
  {
   "cell_type": "markdown",
   "id": "dcf91a11",
   "metadata": {},
   "source": [
    "La magnitudine di questi valori è in linea di massima abbastanza in accordo con le analisi fatte in precedenza: le feature che hanno pesi più alti (in valore assoluto) sono tendenzialmente quelle che avevano ottenuto valori più alti di Mutua Informazione."
   ]
  },
  {
   "cell_type": "code",
   "execution_count": null,
   "id": "2298c083",
   "metadata": {},
   "outputs": [],
   "source": []
  }
 ],
 "metadata": {
  "kernelspec": {
   "display_name": "Python 3",
   "language": "python",
   "name": "python3"
  },
  "language_info": {
   "codemirror_mode": {
    "name": "ipython",
    "version": 3
   },
   "file_extension": ".py",
   "mimetype": "text/x-python",
   "name": "python",
   "nbconvert_exporter": "python",
   "pygments_lexer": "ipython3",
   "version": "3.9.5"
  }
 },
 "nbformat": 4,
 "nbformat_minor": 5
}
