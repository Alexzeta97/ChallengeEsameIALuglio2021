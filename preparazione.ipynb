{
 "cells": [
  {
   "cell_type": "code",
   "execution_count": 1,
   "id": "fbf89261",
   "metadata": {},
   "outputs": [
    {
     "name": "stdout",
     "output_type": "stream",
     "text": [
      "Requirement already satisfied: pandas==1.3.0 in /home/alex/anaconda3/envs/challenge-esame/lib/python3.9/site-packages (from -r requirements.txt (line 1)) (1.3.0)\n",
      "Requirement already satisfied: matplotlib==3.4.2 in /home/alex/anaconda3/envs/challenge-esame/lib/python3.9/site-packages (from -r requirements.txt (line 2)) (3.4.2)\n",
      "Requirement already satisfied: seaborn==0.11.1 in /home/alex/anaconda3/envs/challenge-esame/lib/python3.9/site-packages (from -r requirements.txt (line 3)) (0.11.1)\n",
      "Requirement already satisfied: scikit-learn==0.24.2 in /home/alex/anaconda3/envs/challenge-esame/lib/python3.9/site-packages (from -r requirements.txt (line 4)) (0.24.2)\n",
      "Requirement already satisfied: imbalanced-learn==0.8.0 in /home/alex/anaconda3/envs/challenge-esame/lib/python3.9/site-packages (from -r requirements.txt (line 5)) (0.8.0)\n",
      "Requirement already satisfied: python-dateutil>=2.7.3 in /home/alex/anaconda3/envs/challenge-esame/lib/python3.9/site-packages (from pandas==1.3.0->-r requirements.txt (line 1)) (2.8.1)\n",
      "Requirement already satisfied: numpy>=1.17.3 in /home/alex/anaconda3/envs/challenge-esame/lib/python3.9/site-packages (from pandas==1.3.0->-r requirements.txt (line 1)) (1.21.0)\n",
      "Requirement already satisfied: pytz>=2017.3 in /home/alex/anaconda3/envs/challenge-esame/lib/python3.9/site-packages (from pandas==1.3.0->-r requirements.txt (line 1)) (2021.1)\n",
      "Requirement already satisfied: pillow>=6.2.0 in /home/alex/anaconda3/envs/challenge-esame/lib/python3.9/site-packages (from matplotlib==3.4.2->-r requirements.txt (line 2)) (8.3.1)\n",
      "Requirement already satisfied: pyparsing>=2.2.1 in /home/alex/anaconda3/envs/challenge-esame/lib/python3.9/site-packages (from matplotlib==3.4.2->-r requirements.txt (line 2)) (2.4.7)\n",
      "Requirement already satisfied: cycler>=0.10 in /home/alex/anaconda3/envs/challenge-esame/lib/python3.9/site-packages (from matplotlib==3.4.2->-r requirements.txt (line 2)) (0.10.0)\n",
      "Requirement already satisfied: kiwisolver>=1.0.1 in /home/alex/anaconda3/envs/challenge-esame/lib/python3.9/site-packages (from matplotlib==3.4.2->-r requirements.txt (line 2)) (1.3.1)\n",
      "Requirement already satisfied: scipy>=1.0 in /home/alex/anaconda3/envs/challenge-esame/lib/python3.9/site-packages (from seaborn==0.11.1->-r requirements.txt (line 3)) (1.7.0)\n",
      "Requirement already satisfied: joblib>=0.11 in /home/alex/anaconda3/envs/challenge-esame/lib/python3.9/site-packages (from scikit-learn==0.24.2->-r requirements.txt (line 4)) (1.0.1)\n",
      "Requirement already satisfied: threadpoolctl>=2.0.0 in /home/alex/anaconda3/envs/challenge-esame/lib/python3.9/site-packages (from scikit-learn==0.24.2->-r requirements.txt (line 4)) (2.1.0)\n",
      "Requirement already satisfied: six in /home/alex/anaconda3/envs/challenge-esame/lib/python3.9/site-packages (from cycler>=0.10->matplotlib==3.4.2->-r requirements.txt (line 2)) (1.16.0)\n"
     ]
    }
   ],
   "source": [
    "# Installa tutte le dipendenze.\n",
    "!pip install -r requirements.txt"
   ]
  },
  {
   "cell_type": "code",
   "execution_count": 2,
   "id": "6aa18771",
   "metadata": {},
   "outputs": [],
   "source": [
    "# Importa tutte le librerie necessarie.\n",
    "import pandas as pd\n",
    "from sklearn.model_selection import train_test_split"
   ]
  },
  {
   "cell_type": "code",
   "execution_count": 3,
   "id": "a5a644f4",
   "metadata": {},
   "outputs": [],
   "source": [
    "# Carica l'intero dataset dal disco in un oggetto Pandas DataFrame.\n",
    "datapath = 'Churn_Modelling.partial.csv'\n",
    "dataset = pd.read_csv(datapath) "
   ]
  },
  {
   "cell_type": "code",
   "execution_count": 4,
   "id": "d066bdd3",
   "metadata": {},
   "outputs": [],
   "source": [
    "# Suddividi il dataset in training e test.\n",
    "# Utilizzo l'80% dei dati per il training ed il 20% per il test (mi sembra una buona ripartizione).\n",
    "train, test = train_test_split(dataset, test_size = 0.2, random_state = 0)"
   ]
  },
  {
   "cell_type": "code",
   "execution_count": 5,
   "id": "d50da1a9",
   "metadata": {},
   "outputs": [],
   "source": [
    "# Salva i due dataset ottenuti sul disco.\n",
    "train.to_csv(\"train.csv\", index = False)\n",
    "test.to_csv(\"test.csv\", index = False)"
   ]
  },
  {
   "cell_type": "code",
   "execution_count": null,
   "id": "b7224c63",
   "metadata": {},
   "outputs": [],
   "source": []
  }
 ],
 "metadata": {
  "kernelspec": {
   "display_name": "Python 3",
   "language": "python",
   "name": "python3"
  },
  "language_info": {
   "codemirror_mode": {
    "name": "ipython",
    "version": 3
   },
   "file_extension": ".py",
   "mimetype": "text/x-python",
   "name": "python",
   "nbconvert_exporter": "python",
   "pygments_lexer": "ipython3",
   "version": "3.9.5"
  }
 },
 "nbformat": 4,
 "nbformat_minor": 5
}
